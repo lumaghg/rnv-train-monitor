{
 "cells": [
  {
   "cell_type": "markdown",
   "id": "9510410b-9fb7-4143-942f-3e96a2c12c3a",
   "metadata": {
    "panel-layout": {
     "height": 213.5795440673828,
     "visible": true,
     "width": 100
    }
   },
   "source": [
    "# Extract active vehicles\n",
    "1. Convenience functions for date processing\n",
    "2. fetch trip_updates\n",
    "3. Process trip_updates\n",
    "4. Enrich stop_times with real-time trip_updates\n",
    "5. add realtime start and end times to trips\n",
    "6. Get trips that are currently active\n",
    "7. Get status of the active trips\n",
    "8. Transform status to LED matrix"
   ]
  },
  {
   "cell_type": "code",
   "execution_count": 1,
   "id": "9fa747e6-f47c-4944-b64f-06362bd09f20",
   "metadata": {},
   "outputs": [],
   "source": [
    "import pandas as pd\n",
    "from os import path, getcwd\n",
    "\n",
    "gtfs_filtered_path = path.join(getcwd(), 'gtfs_filtered')\n",
    "calendar_path = path.join(gtfs_filtered_path, 'calendar.txt')\n",
    "routes_path = path.join(gtfs_filtered_path, 'routes.txt')\n",
    "trips_path = path.join(gtfs_filtered_path, 'trips.txt')\n",
    "stops_path = path.join(gtfs_filtered_path, 'stops.txt')\n",
    "stop_times_path = path.join(gtfs_filtered_path, 'stop_times.txt')\n",
    "\n",
    "calendar:pd.DataFrame = pd.read_csv(calendar_path)\n",
    "routes:pd.DataFrame = pd.read_csv(routes_path)\n",
    "trips:pd.DataFrame = pd.read_csv(trips_path)\n",
    "stops:pd.DataFrame = pd.read_csv(stops_path)\n",
    "stop_times:pd.DataFrame = pd.read_csv(stop_times_path)\n",
    "\n",
    "\n",
    "relevant_lines = ['22', '26', '5', '23', '21', '24', '25']\n",
    "#relevant_lines = ['23']\n",
    "relevant_trip_prefixes = [line + \"-\" for line in relevant_lines]"
   ]
  },
  {
   "cell_type": "markdown",
   "id": "cae3757c-d10f-4865-87b1-91a54348c4c8",
   "metadata": {
    "panel-layout": {
     "height": 50.82386016845703,
     "visible": true,
     "width": 100
    }
   },
   "source": [
    "## 1. convenience functions for gtfs date formats"
   ]
  },
  {
   "cell_type": "code",
   "execution_count": 2,
   "id": "c173f39c-692c-41cf-96d6-7c800b3d2993",
   "metadata": {},
   "outputs": [],
   "source": [
    "import datetime\n",
    "\n",
    "def parseGtfsTimestringAsTimeObject(timestring:str):\n",
    "    # mod 24, because gtfs defines days as service days that can be longer than 24 hours, so 24:15 is a valid gtfs time\n",
    "    hour = int(timestring[0:2]) % 24\n",
    "    minute = int(timestring[3:5])\n",
    "    second = int(timestring[6:8])\n",
    "    #print(timestring)\n",
    "    #print(hour)\n",
    "    #print(minute) \n",
    "    #print(second)\n",
    "    return datetime.time(hour, minute, second)\n",
    "\n",
    "def parseGtfsDatestringAsDateObject(datestring:str):\n",
    "    datestring = str(datestring)\n",
    "    year = int(datestring[0:4])\n",
    "    month = int(datestring[4:6])\n",
    "    day = int(datestring[6:8])\n",
    "    return datetime.date(year, month, day)\n",
    "\n",
    "def addSecondsToTimeObject(time:datetime.time, seconds) -> datetime.time:\n",
    "    datetime_object = datetime.datetime(100,1,1,time.hour, time.minute, time.second)\n",
    "    delta = datetime.timedelta(seconds=seconds)\n",
    "    return (datetime_object + delta).time()\n",
    "\n",
    "\n",
    "def getGtfsWeekdayFromDate(date: datetime.date):\n",
    "    weekday_number = date.weekday()\n",
    "    if weekday_number == 0:\n",
    "        return \"monday\"\n",
    "    elif weekday_number == 1:\n",
    "        return \"tuesday\"\n",
    "    elif weekday_number == 2:\n",
    "        return \"wednesday\"\n",
    "    elif weekday_number == 3:\n",
    "        return \"thursday\"\n",
    "    elif weekday_number == 4:\n",
    "        return \"friday\"\n",
    "    elif weekday_number == 5:\n",
    "        return \"saturday\"\n",
    "    else:\n",
    "        return \"sunday\"\n"
   ]
  },
  {
   "cell_type": "markdown",
   "id": "f8cc7e34-dbb3-411f-8da8-fe542058cee7",
   "metadata": {
    "panel-layout": {
     "height": 101.53408813476562,
     "visible": true,
     "width": 100
    }
   },
   "source": [
    "## 2. Fetch trip_updates\n",
    "\n",
    "Now we want to fetch the trip_updates from the realtime api to later enrich our static schedules with real time delay data.\n",
    "To do that, we must first authenticate via oauth2 and then call the tripupdates endpoint."
   ]
  },
  {
   "cell_type": "code",
   "execution_count": 3,
   "id": "af9ca5b1-1a59-400a-bd00-77bcc305bd0d",
   "metadata": {},
   "outputs": [
    {
     "name": "stdout",
     "output_type": "stream",
     "text": [
      "{'trip': {'tripId': '3-302-1003-33720', 'startTime': '09:22:00', 'startDate': '20241111', 'scheduleRelationship': 'SCHEDULED', 'routeId': '3-302-3'}, 'stopTimeUpdate': [{'stopSequence': 9, 'arrival': {'delay': 68}, 'departure': {'delay': 68}, 'stopId': '250521'}, {'stopSequence': 12, 'arrival': {'delay': 129}, 'departure': {'delay': 99}, 'stopId': '241703'}, {'stopSequence': 13, 'arrival': {'delay': 96}, 'departure': {'delay': 96}, 'stopId': '554201'}, {'stopSequence': 16, 'departure': {'delay': 66}, 'stopId': '245123'}, {'stopSequence': 17, 'arrival': {'delay': 66}, 'stopId': '243822'}, {'stopSequence': 21, 'arrival': {'delay': 130}, 'departure': {'delay': 130}, 'stopId': '244902'}, {'stopSequence': 24, 'arrival': {'delay': 61}, 'departure': {'delay': 61}, 'stopId': '238604'}, {'stopSequence': 27, 'arrival': {'delay': 121}, 'departure': {'delay': 121}, 'stopId': '261602'}, {'stopSequence': 30, 'arrival': {'delay': 62}, 'departure': {'delay': 62}, 'stopId': '255702'}, {'stopSequence': 31, 'arrival': {'delay': 43}, 'departure': {'delay': 43}, 'stopId': '256002'}]}\n"
     ]
    }
   ],
   "source": [
    "# load env\n",
    "from dotenv import load_dotenv\n",
    "from os import getenv\n",
    "import requests\n",
    "\n",
    "load_dotenv()\n",
    "\n",
    "# authenticate with oauth2\n",
    "client_id = getenv('gtfs_rt_clientID')\n",
    "client_secret = getenv('gtfs_rt_clientSecret')\n",
    "resource = getenv('gtfs_rt_resource')\n",
    "tenant_id = getenv('gtfs_rt_tenantID')\n",
    "hostname = getenv('gtfs_rt_hostname')\n",
    "\n",
    "\n",
    "from oauthlib.oauth2 import WebApplicationClient\n",
    "client = WebApplicationClient(client_id)\n",
    "\n",
    "# prepare x-www-form-urlencoded body data\n",
    "data = f'grant_type=client_credentials&resource={resource}&client_id={client_id}&client_secret={client_secret}'\n",
    "\n",
    "auth_url = f'https://login.microsoftonline.com/{tenant_id}/oauth2/token'\n",
    "headers= { 'Content-type':'application/x-www-form-urlencoded'}\n",
    "\n",
    "auth_response = requests.post(auth_url, data=data, headers=headers)\n",
    "auth = client.parse_request_body_response(auth_response.text)\n",
    "\n",
    "gtfs_access_token = auth['access_token']\n",
    "\n",
    "# fetch tripupdates\n",
    "import json\n",
    "\n",
    "trip_updates_json_url = f'{hostname}/tripupdates/decoded'\n",
    "headers = {'Authorization':f'Bearer {gtfs_access_token}'}\n",
    "\n",
    "trip_updates_response = requests.get(trip_updates_json_url, headers=headers)\n",
    "trip_updates = json.loads(trip_updates_response.text)['entity']\n",
    "\n",
    "trip_updates = [trip_update['tripUpdate'] for trip_update in trip_updates]\n",
    "\n",
    "print(trip_updates[0])\n",
    "#print(trip_updates['entity'][0]['tripUpdate']['stopTimeUpdate'])\n",
    "\n",
    "\n",
    "\n",
    "\n",
    "\n"
   ]
  },
  {
   "cell_type": "markdown",
   "id": "6e2ee90e-d30c-455c-ab72-f81eb8363349",
   "metadata": {
    "panel-layout": {
     "height": 84.38919830322266,
     "visible": true,
     "width": 100
    }
   },
   "source": [
    "## 3. preprocess data\n",
    "\n",
    "Firstly, we need to select only trip_updates, trips, stop_times, stops and routes for our relevant lines to reduce unnecessary processing.\n",
    "Furhtermore, we only want trips and stop_times that run + - 1 hour of the current time, assuming that no train has more than 60 minutes of delay, to reduce unnecessary processing."
   ]
  },
  {
   "cell_type": "code",
   "execution_count": 4,
   "id": "5dcf954b-aae3-4f55-8949-bdc848f643ac",
   "metadata": {
    "panel-layout": {
     "height": 0,
     "visible": true,
     "width": 100
    }
   },
   "outputs": [
    {
     "name": "stdout",
     "output_type": "stream",
     "text": [
      "   route_id       trip_id                                   service_id  \\\n",
      "2     5-1-5  5-1-51-22500  309-310-311-312-313-316-317-318-319-320-323   \n",
      "3     5-1-5  5-1-51-30900  309-310-311-312-313-316-317-318-319-320-323   \n",
      "16    5-1-5  5-1-51-24900  309-310-311-312-313-316-317-318-319-320-323   \n",
      "17    5-1-5  5-1-51-33300  309-310-311-312-313-316-317-318-319-320-323   \n",
      "24    5-1-5  5-1-51-23700  309-310-311-312-313-316-317-318-319-320-323   \n",
      "\n",
      "   trip_short_name start_time  end_time  \n",
      "2                5   06:15:00  08:35:05  \n",
      "3                5   08:35:00  10:55:05  \n",
      "16               5   06:55:00  09:15:05  \n",
      "17               5   09:15:00  11:35:05  \n",
      "24               5   06:35:00  08:55:05  \n",
      "         trip_id arrival_time departure_time  stop_sequence  stop_id\n",
      "72  5-1-51-22500     06:15:00       06:15:15              1   414601\n",
      "73  5-1-51-22500     06:16:00       06:18:15              2   410901\n",
      "74  5-1-51-22500     06:20:00       06:20:15              3   411801\n",
      "75  5-1-51-22500     06:21:00       06:21:15              4   413601\n",
      "76  5-1-51-22500     06:22:00       06:22:15              5   410501\n"
     ]
    }
   ],
   "source": [
    "# select only trip_updates of relevant trips, indicated by the refernced trip.tripId\n",
    "trip_updates = [trip_update for trip_update in trip_updates if trip_update['trip']['tripId'].startswith(tuple(relevant_trip_prefixes))]\n",
    "\n",
    "# select only routes, trips and stop_times of relevant lines, indicated by the route_id / trip_id\n",
    "routes = routes.loc[routes['route_id'].str.startswith(tuple(relevant_trip_prefixes))]\n",
    "trips = trips.loc[trips['trip_id'].str.startswith(tuple(relevant_trip_prefixes))]\n",
    "stop_times = stop_times.loc[stop_times['trip_id'].str.startswith(tuple(relevant_trip_prefixes))]\n",
    "\n",
    "current_datetime = datetime.datetime.now()\n",
    "\n",
    "# train is potentially running if\n",
    "# 1. the scheduled start is before the current time (otherwise trip hasn't started yet)\n",
    "# 2. the current time if before the scheduled end + 2 hours (otherwise trip has ended, unless delay is > 2h)\n",
    "def isPotentiallyRunningAtCurrentTime(start_gtfs_timestring, end_gtfs_timestring, current_datetime):\n",
    "    starttime = parseGtfsTimestringAsTimeObject(start_gtfs_timestring)\n",
    "    endtime = parseGtfsTimestringAsTimeObject(end_gtfs_timestring)\n",
    "\n",
    "    # make a datetime with the current date, because the selected trips are scheduled for today\n",
    "    # if we use time instead of datetime, no trips after 00:00 - delay_buffer can be shown\n",
    "    startdatetime = datetime.datetime.combine(datetime.date.today(), starttime)\n",
    "    enddatetime = datetime.datetime.combine(datetime.date.today(), endtime)\n",
    "\n",
    "    enddatetime_with_delay_buffer = enddatetime + datetime.timedelta(hours=2)\n",
    "\n",
    "    return startdatetime <= current_datetime <= enddatetime_with_delay_buffer\n",
    "    \n",
    "\n",
    "# select only trips that are potentially running right now, ignoring trains with 2h + delay\n",
    "trips = trips.loc[trips.apply(lambda row: isPotentiallyRunningAtCurrentTime(row['start_time'], row['end_time'], current_datetime), axis=1)]\n",
    "stop_times = stop_times.loc[stop_times.apply(lambda row: row['trip_id'] in trips.loc[:,'trip_id'].values, axis=1)]\n",
    "\n",
    "print(trips.head(5))\n",
    "print(stop_times.head(5))\n"
   ]
  },
  {
   "cell_type": "markdown",
   "id": "a8e369ab-8489-4b45-b4d2-be669b2aead7",
   "metadata": {
    "panel-layout": {
     "height": 119.70170593261719,
     "visible": true,
     "width": 100
    }
   },
   "source": [
    "According to gtfs-rt specification, the stopTimeUpdates only include updates of the delay. If a tram is delayed for 30 seconds departing stop 1, arriving at stop 2, departing stop 2 and then gets to stop 3 on time, the stopTimeUpdates will only include one entry for delay 30 (departure) at stop 1 and delay 0 (arrival) stop 3.\n",
    "To prepare enriching the stop_times with the delays, we simply fill the missing stopTimeUpdates.\n",
    "We will later use stopSequence to identify a stop, because we can simply calculate the stopSequence for the artificially filled stopTimeUpdated, but can't do it as easily with the stopIds."
   ]
  },
  {
   "cell_type": "code",
   "execution_count": 5,
   "id": "6c6aab21-b993-46cc-8690-b24959034347",
   "metadata": {},
   "outputs": [
    {
     "name": "stdout",
     "output_type": "stream",
     "text": [
      "{'trip': {'tripId': '23-2-1-34860', 'startTime': '09:41:00', 'startDate': '20241111', 'scheduleRelationship': 'SCHEDULED', 'routeId': '23-2-23'}, 'stopTimeUpdate': [{'stopSequence': 1, 'arrival': {'delay': 0}, 'departure': {'delay': 0}}, {'stopSequence': 2, 'arrival': {'delay': 0}, 'departure': {'delay': 0}}, {'stopSequence': 3, 'arrival': {'delay': 20}, 'departure': {'delay': 127}}, {'stopSequence': 4, 'arrival': {'delay': 127}, 'departure': {'delay': 127}}, {'stopSequence': 5, 'arrival': {'delay': 127}, 'departure': {'delay': 127}}, {'stopSequence': 6, 'arrival': {'delay': 127}, 'departure': {'delay': 127}}, {'stopSequence': 7, 'arrival': {'delay': 127}, 'departure': {'delay': 127}}, {'stopSequence': 8, 'arrival': {'delay': 127}, 'departure': {'delay': 127}}, {'stopSequence': 9, 'arrival': {'delay': 127}, 'departure': {'delay': 127}}, {'stopSequence': 10, 'arrival': {'delay': 64}, 'departure': {'delay': 64}}, {'stopSequence': 11, 'arrival': {'delay': 64}, 'departure': {'delay': 64}}, {'stopSequence': 12, 'arrival': {'delay': 64}, 'departure': {'delay': 64}}, {'stopSequence': 13, 'arrival': {'delay': 64}, 'departure': {'delay': 64}}, {'stopSequence': 14, 'arrival': {'delay': 64}, 'departure': {'delay': 64}}, {'stopSequence': 15, 'arrival': {'delay': 64}, 'departure': {'delay': 64}}, {'stopSequence': 16, 'arrival': {'delay': 64}, 'departure': {'delay': 64}}, {'stopSequence': 17, 'arrival': {'delay': 64}, 'departure': {'delay': 64}}, {'stopSequence': 18, 'arrival': {'delay': 64}, 'departure': {'delay': 64}}, {'stopSequence': 19, 'arrival': {'delay': 64}, 'departure': {'delay': 64}}, {'stopSequence': 20, 'arrival': {'delay': 64}, 'departure': {'delay': 64}}, {'stopSequence': 21, 'arrival': {'delay': 64}, 'departure': {'delay': 64}}]}\n"
     ]
    }
   ],
   "source": [
    "# iterate over the trip_updates\n",
    "for trip_update in trip_updates:\n",
    "    # find the last stopSequence for the trip\n",
    "    trip_id = trip_update['trip']['tripId']\n",
    "    schedule_relationship = trip_update['trip']['scheduleRelationship']\n",
    "    \n",
    "    # delete trip and stop_times for canceled trips\n",
    "    if schedule_relationship == 'CANCELED':\n",
    "        # only keep stop times / trips that are not related to the canceled trip\n",
    "        stop_times = stop_times[stop_times['trip_id'] != trip_id]\n",
    "        trips = trips[trips['trip_id'] != trip_id]\n",
    "        print('deleting trip:', trip_id)\n",
    "        continue\n",
    "\n",
    "    stop_times_for_trip = stop_times.loc[stop_times['trip_id'] == trip_id]\n",
    "\n",
    "    # skip updates for unknown trips, e.g. emergency services not known to GTFS schedule\n",
    "    if len(stop_times_for_trip) == 0:\n",
    "        continue\n",
    "        \n",
    "    #print(stop_times_for_trip)\n",
    "    stop_times_for_trip = stop_times_for_trip.sort_values(by=['stop_sequence'])\n",
    "    last_stop_sequence = int(stop_times_for_trip.iloc[-1]['stop_sequence']) \n",
    "\n",
    "    stop_time_updates = trip_update['stopTimeUpdate']\n",
    "    stop_time_updates_filled = []\n",
    "\n",
    "    # fill stop_time_updates for every stopSequence\n",
    "    current_trip_delay_seconds = 0\n",
    "    for stop_sequence in range(1,last_stop_sequence + 1):\n",
    "        \n",
    "        # check if stopTimeUpdate exists\n",
    "        existing_stop_time_updates = [stop_time_update for stop_time_update in stop_time_updates if stop_time_update['stopSequence'] == stop_sequence]\n",
    "        # no stopTimeUpdate exists, generate a new one with current_trip_delay\n",
    "        if len(existing_stop_time_updates) == 0:\n",
    "            stop_time_updates_filled.append({'stopSequence': stop_sequence, \n",
    "                                             'arrival': {'delay': current_trip_delay_seconds}, \n",
    "                                             'departure': {'delay': current_trip_delay_seconds}})\n",
    "        # otherwise use the delays that already exist, update current_trip delay and fill arrival and departure with current_trip_delay if missing\n",
    "        \n",
    "        else:\n",
    "            # determine arrival_delay\n",
    "            existing_stop_time_update = existing_stop_time_updates[0]\n",
    "\n",
    "               \n",
    "            arrival_delay = existing_stop_time_update['arrival']['delay'] if 'arrival' in existing_stop_time_update else current_trip_delay_seconds\n",
    "            \n",
    "            # update current trip delay, if no arrival delay was specified, it virtually stays the same\n",
    "            current_trip_delay_seconds = arrival_delay\n",
    "\n",
    "            # determine departure_delay\n",
    "            existing_stop_time_update = existing_stop_time_updates[0]\n",
    "            departure_delay = existing_stop_time_update['departure']['delay'] if 'departure' in existing_stop_time_update else current_trip_delay_seconds\n",
    "            \n",
    "            # update current trip delay, if no arrival delay was specified, it virtually stays the same\n",
    "            current_trip_delay_seconds = departure_delay\n",
    "\n",
    "            stop_time_updates_filled.append({'stopSequence': stop_sequence, \n",
    "                                             'arrival': {'delay': arrival_delay}, \n",
    "                                             'departure': {'delay': departure_delay}})\n",
    "\n",
    "    # replace stopTimeUpdate with filled version\n",
    "    trip_update['stopTimeUpdate'] = stop_time_updates_filled\n",
    "\n",
    "try:\n",
    "    print(trip_updates[0])\n",
    "except IndexError:\n",
    "    print('no trip updates found')\n",
    "    "
   ]
  },
  {
   "cell_type": "markdown",
   "id": "cd0b509b-a2b9-445f-bf41-9b5cef573540",
   "metadata": {
    "panel-layout": {
     "height": 118.67897033691406,
     "visible": true,
     "width": 100
    }
   },
   "source": [
    "## 4. enrich stop_times with realtime delays\n",
    "\n",
    "\n",
    "\n",
    "Now, we can add the real time delay to the scheduled stop_times.\n",
    "We create two new columns, arrival_realtime and departure_realtime, and calculate the realtime arrival and departure times using the trip_updates from the previous step. If no trip_update exists, we will simply copy the scheduled times."
   ]
  },
  {
   "cell_type": "code",
   "execution_count": 6,
   "id": "96c9d5bc-ecf6-4d7b-a4e5-4c2431d6d7f0",
   "metadata": {
    "panel-layout": {
     "height": 0,
     "visible": true,
     "width": 100
    }
   },
   "outputs": [
    {
     "name": "stdout",
     "output_type": "stream",
     "text": [
      "         trip_id arrival_time departure_time  stop_sequence  stop_id  \\\n",
      "72  5-1-51-22500     06:15:00       06:15:15              1   414601   \n",
      "73  5-1-51-22500     06:16:00       06:18:15              2   410901   \n",
      "74  5-1-51-22500     06:20:00       06:20:15              3   411801   \n",
      "75  5-1-51-22500     06:21:00       06:21:15              4   413601   \n",
      "76  5-1-51-22500     06:22:00       06:22:15              5   410501   \n",
      "\n",
      "   arrival_realtime departure_realtime  \n",
      "72         06:15:00           06:15:15  \n",
      "73         06:16:00           06:18:15  \n",
      "74         06:20:00           06:20:15  \n",
      "75         06:21:00           06:21:15  \n",
      "76         06:22:00           06:22:15  \n"
     ]
    }
   ],
   "source": [
    "def calculateRealtime(stop_time, arrival_or_departure):\n",
    "    \n",
    "    trip_id = stop_time['trip_id']\n",
    "    scheduled_time = stop_time[f'{arrival_or_departure}_time']\n",
    "    stop_sequence = stop_time['stop_sequence']\n",
    "    \n",
    "    # find the corresponding trip_update, if it exists\n",
    "    trip_updates_for_stop_time = [trip_update for trip_update in trip_updates if trip_update['trip']['tripId'] == trip_id]\n",
    "    \n",
    "    # if no trip updates exist, the scheduled time is used instead\n",
    "    if len(trip_updates_for_stop_time) == 0:\n",
    "       return scheduled_time\n",
    "   \n",
    "    trip_update_for_stop_time = trip_updates_for_stop_time[0]\n",
    "    \n",
    "    # find the stopTimeUpdate for this stop\n",
    "    stop_time_updates_for_stop_time = [stop_time_update for stop_time_update in trip_update_for_stop_time['stopTimeUpdate']]\n",
    "\n",
    "    # if no stop time updates exist, the scheduled time is used instead\n",
    "    if len(stop_time_updates_for_stop_time) == 0:\n",
    "        return scheduled_time\n",
    "\n",
    "    stop_time_update_for_stop_time = stop_time_updates_for_stop_time[0]\n",
    "\n",
    "    \n",
    "    # add delay to scheduled time\n",
    "    scheduled_time_object = parseGtfsTimestringAsTimeObject(scheduled_time)\n",
    "    delay = stop_time_update_for_stop_time[arrival_or_departure]['delay']\n",
    "    # account for artificially added departure delay of 15 seconds from preprocessing 3.\n",
    "    # => departure delays up to 15 seconds are already accounted for\n",
    "    if arrival_or_departure == 'departure':\n",
    "        delay = max(delay - 15,0)\n",
    "        \n",
    "    realtime = addSecondsToTimeObject(scheduled_time_object, delay).isoformat()\n",
    "\n",
    "    return realtime\n",
    "                                       \n",
    "\n",
    "\n",
    "arrivals_realtime = [calculateRealtime(stop_time, 'arrival') for i, stop_time in stop_times.iterrows()]\n",
    "departures_realtime = [calculateRealtime(stop_time, 'departure') for i, stop_time in stop_times.iterrows()]\n",
    "\n",
    "# add columns to stop_times\n",
    "\n",
    "stop_times['arrival_realtime'] = arrivals_realtime\n",
    "stop_times['departure_realtime'] = departures_realtime\n",
    "\n",
    "\n",
    "print(stop_times[:5])"
   ]
  },
  {
   "cell_type": "markdown",
   "id": "8fb81dd4-22b8-44ee-be2e-fe739892a2de",
   "metadata": {
    "panel-layout": {
     "height": 103.3522720336914,
     "visible": true,
     "width": 100
    }
   },
   "source": [
    "## 5. add realtime start and end times to trips\n",
    "To make it easy to identify the active trips, we will now add start and end times to each trip. First, we will create a function to get all the stop_times for a specific `trip_id`. Then we will sort the stop_times and return the first `arrival_time` as trip start and the last `departure_time` as trip end."
   ]
  },
  {
   "cell_type": "code",
   "execution_count": 7,
   "id": "4910551c-6a20-4dfa-8791-517b62347547",
   "metadata": {
    "panel-layout": {
     "height": 0,
     "visible": true,
     "width": 100
    }
   },
   "outputs": [],
   "source": [
    "def getTripStartRealtime(trip_id:str) -> tuple[str, str]:\n",
    "    relevant_stop_times = stop_times.loc[stop_times['trip_id'] == trip_id]\n",
    "    #print('found ',relevant_stop_times.shape[0], 'relevant stop times for trip_id', trip_id)\n",
    "    \n",
    "    relevant_stop_times = relevant_stop_times.sort_values(by=['stop_sequence'])\n",
    "    \n",
    "    first_stop = relevant_stop_times.iloc[0]\n",
    "    trip_start_time = first_stop.loc['arrival_realtime']\n",
    "\n",
    "    return trip_start_time\n",
    "\n",
    "def getTripEndRealtime(trip_id:str) -> tuple[str, str]:\n",
    "    relevant_stop_times = stop_times.loc[stop_times['trip_id'] == trip_id]\n",
    "    #print('found ',relevant_stop_times.shape[0], 'relevant stop times for trip_id', trip_id)\n",
    "    \n",
    "    relevant_stop_times = relevant_stop_times.sort_values(by=['stop_sequence'])\n",
    "    \n",
    "    last_stop = relevant_stop_times.iloc[-1]\n",
    "    trip_end_time = last_stop.loc['departure_realtime']\n",
    "    \n",
    "    return trip_end_time\n"
   ]
  },
  {
   "cell_type": "markdown",
   "id": "532b762d-5a30-4c25-b218-fdbda8b29b3b",
   "metadata": {
    "panel-layout": {
     "height": 51.12215805053711,
     "visible": true,
     "width": 100
    }
   },
   "source": [
    "Now let's add the new columns by using the function we just created."
   ]
  },
  {
   "cell_type": "code",
   "execution_count": 8,
   "id": "371cdde3-7de2-4f06-b9c2-4787b898446b",
   "metadata": {
    "panel-layout": {
     "height": 0,
     "visible": true,
     "width": 100
    }
   },
   "outputs": [
    {
     "name": "stdout",
     "output_type": "stream",
     "text": [
      "   route_id       trip_id                                   service_id  \\\n",
      "2     5-1-5  5-1-51-22500  309-310-311-312-313-316-317-318-319-320-323   \n",
      "3     5-1-5  5-1-51-30900  309-310-311-312-313-316-317-318-319-320-323   \n",
      "16    5-1-5  5-1-51-24900  309-310-311-312-313-316-317-318-319-320-323   \n",
      "17    5-1-5  5-1-51-33300  309-310-311-312-313-316-317-318-319-320-323   \n",
      "24    5-1-5  5-1-51-23700  309-310-311-312-313-316-317-318-319-320-323   \n",
      "\n",
      "   trip_short_name start_time  end_time start_realtime end_realtime  \n",
      "2                5   06:15:00  08:35:05       06:15:00     08:35:05  \n",
      "3                5   08:35:00  10:55:05       08:35:00     10:55:59  \n",
      "16               5   06:55:00  09:15:05       06:55:00     09:15:05  \n",
      "17               5   09:15:00  11:35:05       09:15:00     11:35:05  \n",
      "24               5   06:35:00  08:55:05       06:35:00     08:55:05  \n"
     ]
    }
   ],
   "source": [
    "trips['start_realtime'] = trips.apply(lambda row: getTripStartRealtime(row['trip_id']), axis=1)\n",
    "trips['end_realtime'] = trips.apply(lambda row: getTripEndRealtime(row['trip_id']), axis=1)\n",
    "\n",
    "print(trips.head(5))"
   ]
  },
  {
   "cell_type": "markdown",
   "id": "36c8b268-7eb6-472b-803b-4a4dafae485b",
   "metadata": {
    "panel-layout": {
     "height": 50.82386016845703,
     "visible": true,
     "width": 100
    }
   },
   "source": [
    "## 6. currently active trips"
   ]
  },
  {
   "cell_type": "markdown",
   "id": "4d90f856-529c-402f-83c1-c20d7d766ae6",
   "metadata": {
    "panel-layout": {
     "height": 85.41192626953125,
     "visible": true,
     "width": 100
    }
   },
   "source": [
    "First, we need to get all the trip_ids for currently active trips. Trips are active, if the current time is between the start and end time of the trip and if one of the services, the trip belongs to, runs on the current day.\n",
    "Let's start by looking at the start and end times of the trips."
   ]
  },
  {
   "cell_type": "code",
   "execution_count": 9,
   "id": "7cce0d78-3fad-4639-8b0d-a1001a7de55f",
   "metadata": {
    "panel-layout": {
     "height": 0,
     "visible": true,
     "width": 100
    }
   },
   "outputs": [
    {
     "name": "stdout",
     "output_type": "stream",
     "text": [
      "2024-11-11 10:06:11.995801\n",
      "found 76 trips that run at the current time\n",
      "   route_id       trip_id                                   service_id  \\\n",
      "3     5-1-5  5-1-51-30900  309-310-311-312-313-316-317-318-319-320-323   \n",
      "17    5-1-5  5-1-51-33300  309-310-311-312-313-316-317-318-319-320-323   \n",
      "25    5-1-5  5-1-51-32100  309-310-311-312-313-316-317-318-319-320-323   \n",
      "33    5-2-5  5-2-51-33660  309-310-311-312-313-316-317-318-319-320-323   \n",
      "42    5-1-5  5-1-51-34500  309-310-311-312-313-316-317-318-319-320-323   \n",
      "\n",
      "   trip_short_name start_time  end_time start_realtime end_realtime  \n",
      "3                5   08:35:00  10:55:05       08:35:00     10:55:59  \n",
      "17               5   09:15:00  11:35:05       09:15:00     11:35:05  \n",
      "25               5   08:55:00  11:15:05       08:55:00     11:15:05  \n",
      "33               5   09:21:00  11:41:05       09:21:00     11:41:05  \n",
      "42               5   09:35:00  11:55:05       09:35:00     11:55:05  \n"
     ]
    }
   ],
   "source": [
    "print(datetime.datetime.now())\n",
    "\n",
    "def isTripRowActiveAtCurrentTime(trip_row):\n",
    "    start_time = parseGtfsTimestringAsTimeObject(trip_row['start_realtime'])\n",
    "    current_time = datetime.datetime.now().time() \n",
    "    end_time = parseGtfsTimestringAsTimeObject(trip_row['end_realtime'])\n",
    "    #print(start_time, current_time, end_time, start_time <= current_time <= end_time)\n",
    "    return start_time <= current_time <= end_time\n",
    "    \n",
    "\n",
    "# select trips where current time is between start and end time\n",
    "trips = trips[trips.apply(isTripRowActiveAtCurrentTime, axis=1)]\n",
    "print(\"found\", trips.shape[0], \"trips that run at the current time\")\n",
    "print(trips.head(5))"
   ]
  },
  {
   "cell_type": "markdown",
   "id": "c9c89e47-fa55-4a4d-8e60-246883b0675a",
   "metadata": {
    "panel-layout": {
     "height": 70.0852279663086,
     "visible": true,
     "width": 100
    }
   },
   "source": [
    "Secondly, we will check whether the services run on the current day by looking up the services from the `service_id` column in the calendar dataframe.\n",
    "As soon as we find a `service_id` that runs on the current day, we can stop the search and return true, otherwise we return false."
   ]
  },
  {
   "cell_type": "code",
   "execution_count": 10,
   "id": "f77fa432-6d33-4685-9b87-1ea38954802b",
   "metadata": {
    "panel-layout": {
     "height": 0,
     "visible": true,
     "width": 100
    }
   },
   "outputs": [
    {
     "name": "stdout",
     "output_type": "stream",
     "text": [
      "   route_id       trip_id                                   service_id  \\\n",
      "3     5-1-5  5-1-51-30900  309-310-311-312-313-316-317-318-319-320-323   \n",
      "17    5-1-5  5-1-51-33300  309-310-311-312-313-316-317-318-319-320-323   \n",
      "25    5-1-5  5-1-51-32100  309-310-311-312-313-316-317-318-319-320-323   \n",
      "33    5-2-5  5-2-51-33660  309-310-311-312-313-316-317-318-319-320-323   \n",
      "42    5-1-5  5-1-51-34500  309-310-311-312-313-316-317-318-319-320-323   \n",
      "\n",
      "   trip_short_name start_time  end_time start_realtime end_realtime  \n",
      "3                5   08:35:00  10:55:05       08:35:00     10:55:59  \n",
      "17               5   09:15:00  11:35:05       09:15:00     11:35:05  \n",
      "25               5   08:55:00  11:15:05       08:55:00     11:15:05  \n",
      "33               5   09:21:00  11:41:05       09:21:00     11:41:05  \n",
      "42               5   09:35:00  11:55:05       09:35:00     11:55:05  \n"
     ]
    }
   ],
   "source": [
    "def isTripRowActiveOnCurrentDay(trip_row):\n",
    "    current_date = datetime.date.today()\n",
    "    current_weekday_gtfs = getGtfsWeekdayFromDate(datetime.date.today())\n",
    "    \n",
    "    calendar:pd.DataFrame = pd.read_csv(calendar_path)\n",
    "\n",
    "    # select row from calendar for this service\n",
    "    calendar = calendar[calendar['service_id'] == trip_row['service_id']]\n",
    "\n",
    "    # check every calendar entry\n",
    "    for index, schedule in calendar.iterrows():\n",
    "        # check if current date is between start_date and end_date (inclusive)\n",
    "        start_date = parseGtfsDatestringAsDateObject(schedule['start_date'])\n",
    "        end_date = parseGtfsDatestringAsDateObject(schedule['end_date'])\n",
    "\n",
    "        duration_check = start_date <= current_date <= end_date\n",
    "\n",
    "        # check if current weekday is an active day in the schedule\n",
    "        weekday_check = schedule[current_weekday_gtfs] == 1\n",
    "\n",
    "        if duration_check and weekday_check:\n",
    "            return True\n",
    "                \n",
    "    return False\n",
    "    \n",
    "trips = trips[trips.apply(isTripRowActiveOnCurrentDay, axis=1)]\n",
    "print(trips.head(5))"
   ]
  },
  {
   "cell_type": "markdown",
   "id": "6293f6d5-a03b-4dcd-a8ee-4715b6483938",
   "metadata": {
    "panel-layout": {
     "height": 257.5141906738281,
     "visible": true,
     "width": 100
    }
   },
   "source": [
    "## 7. Status of active trips\n",
    "Now that we have identified all the trips that are currently running, we want to know where the trams are on our network. As we later want to represent a vehicle being at a stop as well as a vehicle traveling between stops, we will represent the status of a vehicle (trip) as \n",
    "\n",
    "trip_id: <strip_id>, status: IN_TRANSIT_TO / STOPPED_AT, current_stop_id: <stop_id/None>, previous_stop_id: <stop_id>, next_stop_id: <stop_id>\n",
    "\n",
    "This will be condensed into a status code string, which is then mapped to one or more LEDs, which should be lighted, when a vehicle has the respective status code.\n",
    "\n",
    "Status codes for vehicles in transit will have the pattern previousstopid_nextstopid (2 stop ids separated by underscore), vehicles that have stopped at a station will have the pattern  previousstopid_currentstopid_nextstopid (3 stop ids separated by underscore).\n"
   ]
  },
  {
   "cell_type": "markdown",
   "id": "a21eda75-bced-4394-9780-69c6c08125c9",
   "metadata": {
    "panel-layout": {
     "height": 51.12215805053711,
     "visible": true,
     "width": 100
    }
   },
   "source": [
    "First, let's define some functions:"
   ]
  },
  {
   "cell_type": "code",
   "execution_count": 11,
   "id": "3bc194bb-3bf8-4cac-8205-b770db66bce5",
   "metadata": {
    "panel-layout": {
     "height": 0,
     "visible": true,
     "width": 100
    }
   },
   "outputs": [
    {
     "name": "stdout",
     "output_type": "stream",
     "text": [
      "            trip_id         status current_stop_id previous_stop_id  \\\n",
      "0      5-1-51-30900     STOPPED_AT          116021           133001   \n",
      "1      5-1-51-33300  IN_TRANSIT_TO                           243822   \n",
      "2      5-1-51-32100  IN_TRANSIT_TO                           259102   \n",
      "3      5-2-51-33660  IN_TRANSIT_TO                           119402   \n",
      "4      5-1-51-34500     STOPPED_AT          241301           240401   \n",
      "5      5-2-51-34860     STOPPED_AT           51601            51501   \n",
      "6      5-2-51-36060     STOPPED_AT          407701           408401   \n",
      "7      5-1-51-35700     STOPPED_AT          410901           414601   \n",
      "8      5-2-51-31260     STOPPED_AT          253301           252203   \n",
      "9      5-2-51-28860     STOPPED_AT          385102           384102   \n",
      "10     5-1-51-28500     STOPPED_AT          714002           158502   \n",
      "11     5-2-51-30060     STOPPED_AT          243202           554402   \n",
      "12     5-1-51-29700     STOPPED_AT          113302           113602   \n",
      "13     5-2-51-32460  IN_TRANSIT_TO                            62901   \n",
      "14    5-53-51-35400     STOPPED_AT          554202           245901   \n",
      "15   5-136-51-34380  IN_TRANSIT_TO                           252101   \n",
      "16   5-136-51-35580     STOPPED_AT          116022           119402   \n",
      "17   5-103-51-32400  IN_TRANSIT_TO                           130401   \n",
      "18    5-53-51-34200     STOPPED_AT          252204           253302   \n",
      "19  5-38-6005-35400     STOPPED_AT          123321           122521   \n",
      "20   5-127-51-36240     STOPPED_AT          126022           114601   \n",
      "21     21-2-1-35760     STOPPED_AT          116021            DEPOT   \n",
      "22  21-1-1021-36000     STOPPED_AT          122901           122801   \n",
      "23     22-1-1-36120  IN_TRANSIT_TO                            69501   \n",
      "24     22-2-1-35580  IN_TRANSIT_TO                           125602   \n",
      "25     22-2-1-36180     STOPPED_AT          119322           116822   \n",
      "26     22-1-1-35520     STOPPED_AT          679101           679421   \n",
      "27     23-2-1-36060     STOPPED_AT          188201           188601   \n",
      "28  23-1-1023-35220  IN_TRANSIT_TO                           127802   \n",
      "29     23-2-1-34860  IN_TRANSIT_TO                           119321   \n",
      "30  23-1-1023-35820     STOPPED_AT          145722           115022   \n",
      "31     23-2-1-35460     STOPPED_AT          127321           126321   \n",
      "32     26-2-2-35280     STOPPED_AT          119921           114421   \n",
      "33     26-2-2-34680     STOPPED_AT          133301           113522   \n",
      "34  26-1-1026-35400     STOPPED_AT          115122           114422   \n",
      "35  26-1-1026-34800     STOPPED_AT          121902           121602   \n",
      "36     26-2-2-35880  IN_TRANSIT_TO                           679501   \n",
      "37  26-1-1026-36000     STOPPED_AT          113521           133302   \n",
      "\n",
      "   next_stop_id                       current_stop_name  \\\n",
      "0        119421               HD Hauptbahnhof (Steig B)   \n",
      "1        244722                                           \n",
      "2         62902                                           \n",
      "3        116022                                           \n",
      "4        243201              Bonifatiuskirche (Steig C)   \n",
      "5        113301                Dossenheim Süd (Steig 1)   \n",
      "6        158101                  Hohensachsen (Steig 1)   \n",
      "7        411801         Weinheim Hauptbahnhof (Steig 2)   \n",
      "8        240601                 Holbeinstraße (Steig 2)   \n",
      "9        385302             Viernheim Bahnhof (Steig 1)   \n",
      "10       158102               Großsachsen Süd (Steig 2)   \n",
      "11       241302            Lange Rötterstraße (Steig B)   \n",
      "12        51602                    Burgstraße (Steig B)   \n",
      "13       259101                                           \n",
      "14       241722                    Kunsthalle (Steig A)   \n",
      "15       252203                                           \n",
      "16       133002               HD Hauptbahnhof (Steig D)   \n",
      "17       130201                                           \n",
      "18       252102                    Neuostheim (Steig 1)   \n",
      "19       126021                 Kußmaulstraße (Steig A)   \n",
      "20       123322                 Brückenstraße (Steig B)   \n",
      "21       119421               HD Hauptbahnhof (Steig B)   \n",
      "22       119921                    Jahnstraße (Steig A)   \n",
      "23       126101                                           \n",
      "24       126102                                           \n",
      "25       679102                 Stadtbücherei (Steig B)   \n",
      "26       119321                    Ringstraße (Steig B)   \n",
      "27       189001        Johannes-Reidel-Straße (Steig B)   \n",
      "28       189002                                           \n",
      "29       116821                                           \n",
      "30       114122  S-Bahnhof Weststadt/Südstadt (Steig A)   \n",
      "31       118521                   Markscheide (Steig B)   \n",
      "32       118921               Volkshochschule (Steig B)   \n",
      "33        DEPOT            Heiligenbergschule (Steig A)   \n",
      "34       427404                  Czernybrücke (Steig B)   \n",
      "35       120701             Kirchheim Rathaus (Steig B)   \n",
      "36       114921                                           \n",
      "37       122521                   Kapellenweg (Steig A)   \n",
      "\n",
      "                      previous_stop_name route_color_hex            statuscode  \n",
      "0          Gneisenaustraße Süd (Steig 1)          00975F  133001_116021_119421  \n",
      "1                MA Marktplatz (Steig B)          00975F         243822_244722  \n",
      "2       Seckenheim OEG-Bahnhof (Steig 1)          00975F          259102_62902  \n",
      "3                   Stadtwerke (Steig B)          00975F         119402_116022  \n",
      "4                Exerzierplatz (Steig A)          00975F  240401_241301_243201  \n",
      "5           Dossenheim Bahnhof (Steig 1)          00975F    51501_51601_113301  \n",
      "6     Lützelsachsen Bergstraße (Steig 1)          00975F  408401_407701_158101  \n",
      "7   Weinheim Alter OEG-Bahnhof (Steig 2)          00975F  414601_410901_411801  \n",
      "8                   Neuostheim (Steig 2)          00975F  252203_253301_240601  \n",
      "9       Viernheim Kapellenberg (Steig 1)          00975F  384102_385102_385302  \n",
      "10       Leutershausen Bahnhof (Steig 2)          00975F  158502_714002_158102  \n",
      "11        Universitätsklinikum (Steig C)          00975F  554402_243202_241302  \n",
      "12            Hans-Thoma-Platz (Steig B)          00975F   113602_113302_51602  \n",
      "13   Neu-Edingen Gewerbegebiet (Steig 2)          00975F          62901_259101  \n",
      "14                 Rosengarten (Steig A)          00975F  245901_554202_241722  \n",
      "15            Duale Hochschule (Steig 2)          00975F         252101_252203  \n",
      "16                  Stadtwerke (Steig B)          00975F  119402_116022_133002  \n",
      "17       Wieblingen Taubenfeld (Steig 1)          00975F         130401_130201  \n",
      "18               Holbeinstraße (Steig 1)          00975F  253302_252204_252102  \n",
      "19            Blumenthalstraße (Steig A)          00975F  122521_123321_126021  \n",
      "20               Bismarckplatz (Steig A)          00975F  114601_126022_123322  \n",
      "21                                 DEPOT          E30613   DEPOT_116021_119421  \n",
      "22             Bunsengymnasium (Steig A)          E30613  122801_122901_119921  \n",
      "23                 Jakobsgasse (Steig B)          FDC300          69501_126101  \n",
      "24                 Marktstraße (Steig A)          FDC300         125602_126102  \n",
      "25                   Seegarten (Steig B)          FDC300  116822_119322_679102  \n",
      "26           Montpellierbrücke (Steig A)          FDC300  679421_679101_119321  \n",
      "27           Georgi-Marktplatz (Steig B)          E48F00  188601_188201_189001  \n",
      "28                Rohrbach Süd (Steig A)          E48F00         127802_189002  \n",
      "29               Stadtbücherei (Steig A)          E48F00         119321_116821  \n",
      "30              Christuskirche (Steig A)          E48F00  115022_145722_114122  \n",
      "31            Eichendorffplatz (Steig B)          E48F00  126321_127321_118521  \n",
      "32                 Betriebshof (Steig B)          F39B9B  114421_119921_118921  \n",
      "33                 Kapellenweg (Steig B)          F39B9B   113522_133301_DEPOT  \n",
      "34                 Betriebshof (Steig A)          F39B9B  114422_115122_427404  \n",
      "35              Odenwaldstraße (Steig A)          F39B9B  121602_121902_120701  \n",
      "36                   Messplatz (Steig A)          F39B9B         679501_114921  \n",
      "37          Heiligenbergschule (Steig B)          F39B9B  133302_113521_122521  \n"
     ]
    }
   ],
   "source": [
    "import pandas as pd\n",
    "\n",
    "# create status Dataframe for every active trip, then merge the Dataframes\n",
    "# status, current_stop_id, previous_stop_id\n",
    "\n",
    "\n",
    "current_time = datetime.datetime.now().time()\n",
    "\n",
    "\n",
    "def isStoppedAtStopTime(stop_time):\n",
    "    return parseGtfsTimestringAsTimeObject(stop_time['arrival_realtime']) <= current_time <= parseGtfsTimestringAsTimeObject(stop_time['departure_realtime'])\n",
    "\n",
    "# take stop times and iterator to check previous stop\n",
    "# check if the stop_time at position i of stop_times is currently being traveled to\n",
    "def isTravelingToStoptime(stop_times, i):\n",
    "    # loc because i is the pandas index of the row \n",
    "    current_stop_time = stop_times.loc[i]\n",
    "\n",
    "    # if there is no previous stop_time, this is the initial station which cannot be traveled to \n",
    "    try:\n",
    "        # i-1 is okay here, because the df is sorted \n",
    "        previous_stop_time = stop_times.loc[i-1]\n",
    "    except KeyError:\n",
    "        return False\n",
    "    has_arrived_at_stop_time = current_time <= parseGtfsTimestringAsTimeObject(current_stop_time['arrival_realtime'])\n",
    "    has_departed_previous_stop_time = current_time >= parseGtfsTimestringAsTimeObject(previous_stop_time['departure_realtime'])\n",
    "    return has_arrived_at_stop_time and has_departed_previous_stop_time\n",
    "\n",
    "def getPreviousStopId(stop_times, current_stop_time):\n",
    "    trip_id = current_stop_time['trip_id']\n",
    "    \n",
    "    current_stop_sequence = current_stop_time['stop_sequence']\n",
    "        \n",
    "    previous_stop_sequence = current_stop_sequence - 1\n",
    "    \n",
    "    previous_stop_times = stop_times.loc[(stop_times['trip_id'] == trip_id) & (stop_times['stop_sequence'] == previous_stop_sequence)].reset_index(drop=True)\n",
    "    \n",
    "    if len(previous_stop_times) == 0:\n",
    "         # if previous stop does not exist, train is coming from depot\n",
    "        return 'DEPOT'\n",
    "\n",
    "    previous_stop_time = previous_stop_times.iloc[0]\n",
    "\n",
    "    return previous_stop_time['stop_id']\n",
    "\n",
    "def getNextStopId(stop_times, current_stop_time):\n",
    "    trip_id = current_stop_time['trip_id']\n",
    "    \n",
    "    current_stop_sequence = current_stop_time['stop_sequence']\n",
    "        \n",
    "    next_stop_sequence = current_stop_sequence + 1\n",
    "    next_stop_times = stop_times.loc[(stop_times['trip_id'] == trip_id) & (stop_times['stop_sequence'] == next_stop_sequence)].reset_index(drop=True)\n",
    "    \n",
    "    if len(next_stop_times) == 0:\n",
    "        # if previous stop does not exist, train is coming from depot\n",
    "        return 'DEPOT'\n",
    "    \n",
    "    next_stop_time = next_stop_times.iloc[0]\n",
    "\n",
    "    return next_stop_time['stop_id']\n",
    "\n",
    "def getStopName(stops, stop_id):\n",
    "    if stop_id == 'DEPOT':\n",
    "        return 'DEPOT'\n",
    "   # should be 1 or 0\n",
    "    applicable_stops = stops.loc[stops['stop_id'] == stop_id]\n",
    "    if len(applicable_stops) == 0:\n",
    "        # stop not found\n",
    "        return 'ERROR'\n",
    "    else:\n",
    "        applicable_stop = applicable_stops.iloc[0]\n",
    "        return f\"{applicable_stop['stop_name']} (Steig {applicable_stop['platform_code']})\"\n",
    "\n",
    "status_df = pd.DataFrame()\n",
    "\n",
    "for i, active_trip in trips.iterrows():\n",
    "    trip_id = active_trip['trip_id']\n",
    "\n",
    "    stop_times_for_this_trip = stop_times.loc[stop_times['trip_id'] == trip_id]\n",
    "\n",
    "    # find stops, at which the vehicle is currently stopped (should be 0 or 1)\n",
    "    # vehicle is stopped, if current time is between arrival and departure of a stop\n",
    "    stop_times_stopped_at = [stop_time for _,stop_time in stop_times_for_this_trip.iterrows() if isStoppedAtStopTime(stop_time)]\n",
    "\n",
    "    # find stops that the vehicle is currently traveling to (should be 0 or 1)\n",
    "    # vehicle is traveling to a stop if it has not arrived a stop but already departed the previous stop\n",
    "    stop_times_traveling_to = [stop_time for i ,stop_time in stop_times_for_this_trip.iterrows() if isTravelingToStoptime(stop_times_for_this_trip, i)]\n",
    "\n",
    "    #print(trip_id, len(stop_times_stopped_at), len(stop_times_traveling_to))\n",
    "\n",
    "    status = ''\n",
    "    previous_stop_id = ''\n",
    "    current_stop_id = ''\n",
    "    next_stop_id = ''\n",
    "    current_stop_name= ''\n",
    "    previous_stop_name=''\n",
    "    statuscode = ''\n",
    "\n",
    "\n",
    "    if len(stop_times_stopped_at) > 0:\n",
    "        status = 'STOPPED_AT'\n",
    "        current_stop_time = stop_times_stopped_at[0]\n",
    "\n",
    "        previous_stop_id = getPreviousStopId(stop_times, current_stop_time)\n",
    "        current_stop_id = current_stop_time['stop_id']\n",
    "        next_stop_id = getNextStopId(stop_times, current_stop_time)\n",
    "\n",
    "\n",
    "        previous_stop_name = getStopName(stops, previous_stop_id)\n",
    "        current_stop_name = getStopName(stops, current_stop_id)\n",
    "        next_stop_name = getStopName(stops, next_stop_id)\n",
    "\n",
    "        statuscode = f\"{previous_stop_id}_{current_stop_id}_{next_stop_id}\"\n",
    "        \n",
    "    elif len(stop_times_traveling_to) > 0:\n",
    "        status = 'IN_TRANSIT_TO'\n",
    "        next_stop_time = stop_times_traveling_to[0]\n",
    "\n",
    "        previous_stop_id = getPreviousStopId(stop_times, next_stop_time)\n",
    "        next_stop_id = next_stop_time['stop_id']\n",
    "        \n",
    "        previous_stop_name = getStopName(stops, previous_stop_id)\n",
    "        next_stop_name = getStopName(stops, next_stop_id)\n",
    "        \n",
    "        statuscode = f\"{previous_stop_id}_{next_stop_id}\"\n",
    "    else: \n",
    "        status = 'ERROR'\n",
    "\n",
    "  \n",
    "   \n",
    "        \n",
    "    route_id = active_trip['route_id']\n",
    "    route_color = routes.loc[routes['route_id'] == route_id]['route_color']\n",
    "    \n",
    "    status_df_row = pd.DataFrame({'trip_id': trip_id,'status': [status], \n",
    "                  'current_stop_id': [current_stop_id], \n",
    "                  'previous_stop_id': [previous_stop_id], \n",
    "                  'next_stop_id': [next_stop_id],\n",
    "                  'current_stop_name': [current_stop_name], \n",
    "                  'previous_stop_name': [previous_stop_name],\n",
    "                                 'route_color_hex': route_color, 'statuscode':statuscode})\n",
    "\n",
    "    \n",
    "    status_df = pd.concat([status_df, status_df_row], ignore_index=True)\n",
    "\n",
    "print(status_df)"
   ]
  },
  {
   "cell_type": "markdown",
   "id": "2dbbb75d-809f-4f9b-bb3e-c2a842cc3541",
   "metadata": {
    "panel-layout": {
     "height": 549.53125,
     "visible": true,
     "width": 100
    }
   },
   "source": [
    "## 8. Convert status to LED Matrix\n",
    "To finally display the vehicles on our LED Matrix, we need to translate the statuses of the vehicles into LEDs.\n",
    "For this, we create a mapping as csv, which we read as pandas dataframe, that maps a status to LEDs.\n",
    "A status is encoded as \\<previous_stop_id>\\_\\<current_stop_id>_<T (transit) / S (stopped at)>, e.g. \n",
    "427404_427504_S for STOPPED_AT Gadamerplatz Steig A, coming from Eppelheimer Terrasse (Steig B)  \n",
    "The LEDs are addressed by their respective X and Y coordinate on the Matrix.\n",
    "In the mapping a status is mapped to one or more LEDs. LEDs are separated by &. LEDs can be referenced by multiple statuses.\n",
    "Example: \n",
    "When the train is stopped at Gadamerplatz Steig A coming from Eppelheimer Terrasse Steig B the LEDs x=0, y=0 and x=0, y=1 should light up.\n",
    "The csv would look as follows\n",
    "```\n",
    "statuscode,      leds  \n",
    "427404_427504_S, 0-0&0-1\n",
    "```\n",
    "\n",
    "The LED matrix is represented in a pandas dataframe with the cell \\[x,y] representing the LED at x,y in the matrix. The cell value is the HEX color(s) that the LED should display.  \n",
    "A cell value is either\n",
    "- 000000 => no light\n",
    "- single HEX-code (e.g. \"FDC300\") => static light FDC300\n",
    "- multiple HEX-codes separated by & (e.g. \"FDC300&B10346\") => light switching from FDC300 to B10346, indicating multiple vehicles on the same track\n",
    "\n",
    "This dataframe / csv is the final output of this notebook and will be the input for the script that directly controls the LED matrix.  \n",
    "To continue the example above, the output matrix, assuming the route color is FDC300 would be  \n",
    "None,0     ,1,2...  \n",
    "0   ,FDC300, ,  \n",
    "1   ,FDC300, ,  \n",
    "2   ,      , ,  \n",
    "...  \n",
    "\n",
    "\n",
    "\n"
   ]
  },
  {
   "cell_type": "code",
   "execution_count": 12,
   "id": "c00f3f58-9bdc-44ad-bd0f-e8faec2b6818",
   "metadata": {
    "panel-layout": {
     "height": 0,
     "visible": true,
     "width": 100
    }
   },
   "outputs": [
    {
     "name": "stdout",
     "output_type": "stream",
     "text": [
      "lighting led at x=36 and y=20\n",
      "skipping statuscode 243822_244722\n",
      "skipping statuscode 259102_62902\n",
      "lighting led at x=37 and y=21\n",
      "skipping statuscode 240401_241301_243201\n",
      "lighting led at x=58 and y=24\n",
      "skipping statuscode 408401_407701_158101\n",
      "skipping statuscode 414601_410901_411801\n",
      "skipping statuscode 252203_253301_240601\n",
      "skipping statuscode 384102_385102_385302\n",
      "skipping statuscode 158502_714002_158102\n",
      "skipping statuscode 554402_243202_241302\n",
      "lighting led at x=56 and y=25\n",
      "skipping statuscode 62901_259101\n",
      "skipping statuscode 245901_554202_241722\n",
      "skipping statuscode 252101_252203\n",
      "lighting led at x=37 and y=20\n",
      "lighting led at x=47 and y=5\n",
      "skipping statuscode 253302_252204_252102\n",
      "lighting led at x=44 and y=29\n",
      "lighting led at x=42 and y=30\n",
      "lighting led at x=36 and y=20\n",
      "skipping statuscode 122801_122901_119921\n",
      "lighting led at x=35 and y=5\n",
      "lighting led at x=36 and y=7\n",
      "lighting led at x=37 and y=26\n",
      "lighting led at x=33 and y=22\n",
      "lighting led at x=8 and y=25\n",
      "lighting led at x=11 and y=24\n",
      "lighting led at x=36 and y=27\n",
      "lighting led at x=30 and y=24\n",
      "lighting led at x=22 and y=25\n",
      "lighting led at x=39 and y=23\n",
      "lighting led at x=49 and y=23\n",
      "lighting led at x=39 and y=16\n",
      "lighting led at x=19 and y=12\n",
      "lighting led at x=28 and y=19\n",
      "lighting led at x=48 and y=26\n",
      "True\n"
     ]
    }
   ],
   "source": [
    "import pandas as pd\n",
    "import numpy as np\n",
    "\n",
    "# import mapping\n",
    "statuscode_led_mapping = pd.read_csv('./statuscode_led_mapping.csv', sep=';')\n",
    "\n",
    "# create led_matrix dataframe with all led colors set to black\n",
    "led_matrix = pd.DataFrame(np.full((32,64), \"000000\"))\n",
    "\n",
    "# add dimmed gray backlight to show route paths\n",
    "statuscode_led_mapping = pd.read_csv('statuscode_led_mapping.csv', sep=\";\")\n",
    "\n",
    "for i, statuscode_led_mapping_row in statuscode_led_mapping.iterrows():\n",
    "    led_mapping_string = statuscode_led_mapping_row['leds']\n",
    "    leds_xy = led_mapping_string.split(\"&\")\n",
    "    for led_xy in leds_xy:\n",
    "        x, y = led_xy.split(\"-\")\n",
    "    \n",
    "        led_matrix.at[int(y), int(x)] = \"666666\"\n",
    "\n",
    "# iterate over status_df rows and display them (overwrites the route background)\n",
    "\n",
    "for _, status_row in status_df.iterrows():\n",
    "    statuscode = status_row['statuscode']\n",
    "    route_color_hex = status_row['route_color_hex']\n",
    "\n",
    "    # get corresponding led coordinates from mapping\n",
    "    # if a statuscode occurs on more than one route, more than 1 mapping row will be found, but as a statuscode is always displayed on the same leds\n",
    "    # all rows will contain the same led coordinates\n",
    "    applicable_mapping_rows = statuscode_led_mapping[statuscode_led_mapping['statuscode'] == statuscode]\n",
    "    if len(applicable_mapping_rows) == 0:\n",
    "        # statuscode not in mapping yet\n",
    "        print(f\"skipping statuscode {statuscode}\") \n",
    "        continue\n",
    "    \n",
    "    statuscode_led_mapping_row = applicable_mapping_rows.loc[applicable_mapping_rows.index[0]]\n",
    "\n",
    "    led_mapping_string = statuscode_led_mapping_row['leds']\n",
    "    leds_xy = led_mapping_string.split(\"&\")\n",
    "    for led_xy in leds_xy:\n",
    "        x, y = led_xy.split(\"-\")\n",
    "        print(f\"lighting led at x={x} and y={y}\")\n",
    "        # .at works with [row (y), col(x)]\n",
    "        led_matrix.at[int(y),int(x)] = route_color_hex\n",
    "\n",
    "# header None so that column index and row index type are int on import and we can use [int][int] to locate datapoints\n",
    "led_matrix.to_csv('./led-matrix.csv', header=None, index=False)\n",
    "\n",
    "led_matrix_read = pd.read_csv('./led-matrix.csv',header=None, dtype=str, index_col=None)\n",
    "print(led_matrix_read[0][0] == \"000000\")\n",
    "led_matrix_read.at[0,0] = \"BCD300\"\n",
    "\n"
   ]
  }
 ],
 "metadata": {
  "kernelspec": {
   "display_name": "base",
   "language": "python",
   "name": "python3"
  },
  "language_info": {
   "codemirror_mode": {
    "name": "ipython",
    "version": 3
   },
   "file_extension": ".py",
   "mimetype": "text/x-python",
   "name": "python",
   "nbconvert_exporter": "python",
   "pygments_lexer": "ipython3",
   "version": "3.12.4"
  },
  "panel-cell-order": [
   "9510410b-9fb7-4143-942f-3e96a2c12c3a",
   "cae3757c-d10f-4865-87b1-91a54348c4c8",
   "f8cc7e34-dbb3-411f-8da8-fe542058cee7",
   "6e2ee90e-d30c-455c-ab72-f81eb8363349",
   "5dcf954b-aae3-4f55-8949-bdc848f643ac",
   "a8e369ab-8489-4b45-b4d2-be669b2aead7",
   "cd0b509b-a2b9-445f-bf41-9b5cef573540",
   "96c9d5bc-ecf6-4d7b-a4e5-4c2431d6d7f0",
   "8fb81dd4-22b8-44ee-be2e-fe739892a2de",
   "4910551c-6a20-4dfa-8791-517b62347547",
   "532b762d-5a30-4c25-b218-fdbda8b29b3b",
   "371cdde3-7de2-4f06-b9c2-4787b898446b",
   "36c8b268-7eb6-472b-803b-4a4dafae485b",
   "4d90f856-529c-402f-83c1-c20d7d766ae6",
   "7cce0d78-3fad-4639-8b0d-a1001a7de55f",
   "c9c89e47-fa55-4a4d-8e60-246883b0675a",
   "f77fa432-6d33-4685-9b87-1ea38954802b",
   "6293f6d5-a03b-4dcd-a8ee-4715b6483938",
   "a21eda75-bced-4394-9780-69c6c08125c9",
   "3bc194bb-3bf8-4cac-8205-b770db66bce5",
   "2dbbb75d-809f-4f9b-bb3e-c2a842cc3541",
   "c00f3f58-9bdc-44ad-bd0f-e8faec2b6818"
  ]
 },
 "nbformat": 4,
 "nbformat_minor": 5
}
