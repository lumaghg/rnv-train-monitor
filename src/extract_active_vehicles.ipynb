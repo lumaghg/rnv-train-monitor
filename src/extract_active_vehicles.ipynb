{
 "cells": [
  {
   "cell_type": "markdown",
   "id": "9510410b-9fb7-4143-942f-3e96a2c12c3a",
   "metadata": {
    "panel-layout": {
     "height": 213.5795440673828,
     "visible": true,
     "width": 100
    }
   },
   "source": [
    "# Extract active vehicles\n",
    "1. Convenience functions for date processing\n",
    "2. fetch trip_updates\n",
    "3. Process trip_updates\n",
    "4. Enrich stop_times with real-time trip_updates\n",
    "5. add realtime start and end times to trips\n",
    "6. Get trips that are currently active\n",
    "7. Get status of the active trips\n",
    "8. Transform status to LED matrix"
   ]
  },
  {
   "cell_type": "code",
   "execution_count": 3,
   "id": "9fa747e6-f47c-4944-b64f-06362bd09f20",
   "metadata": {},
   "outputs": [],
   "source": [
    "import pandas as pd\n",
    "from os import path, getcwd\n",
    "\n",
    "gtfs_filtered_path = path.join(getcwd(), 'gtfs_filtered')\n",
    "calendar_path = path.join(gtfs_filtered_path, 'calendar.txt')\n",
    "routes_path = path.join(gtfs_filtered_path, 'routes.txt')\n",
    "trips_path = path.join(gtfs_filtered_path, 'trips.txt')\n",
    "stops_path = path.join(gtfs_filtered_path, 'stops.txt')\n",
    "stop_times_path = path.join(gtfs_filtered_path, 'stop_times.txt')\n",
    "\n",
    "calendar:pd.DataFrame = pd.read_csv(calendar_path)\n",
    "routes:pd.DataFrame = pd.read_csv(routes_path)\n",
    "trips:pd.DataFrame = pd.read_csv(trips_path)\n",
    "stops:pd.DataFrame = pd.read_csv(stops_path)\n",
    "stop_times:pd.DataFrame = pd.read_csv(stop_times_path)\n",
    "\n",
    "\n",
    "relevant_lines = ['22', '5', '26', '23', '21']\n",
    "relevant_trip_prefixes = [line + \"-\" for line in relevant_lines]\n",
    "\n",
    "\n"
   ]
  },
  {
   "cell_type": "markdown",
   "id": "cae3757c-d10f-4865-87b1-91a54348c4c8",
   "metadata": {
    "panel-layout": {
     "height": 50.82386016845703,
     "visible": true,
     "width": 100
    }
   },
   "source": [
    "## 1. convenience functions for gtfs date formats"
   ]
  },
  {
   "cell_type": "code",
   "execution_count": 5,
   "id": "c173f39c-692c-41cf-96d6-7c800b3d2993",
   "metadata": {},
   "outputs": [],
   "source": [
    "import datetime\n",
    "\n",
    "def parseTimeAsDatetimeObject(timestring:str):\n",
    "    # mod 24, because gtfs defines days as service days that can be longer than 24 hours, so 24:15 is a valid gtfs time\n",
    "    hour = int(timestring[0:2]) % 24\n",
    "    minute = int(timestring[3:5])\n",
    "    second = int(timestring[6:8])\n",
    "    #print(timestring)\n",
    "    #print(hour)\n",
    "    #print(minute) \n",
    "    #print(second)\n",
    "    return datetime.time(hour, minute, second)\n",
    "\n",
    "def parseDateAsDatetimeObject(datestring:str):\n",
    "    datestring = str(datestring)\n",
    "    year = int(datestring[0:4])\n",
    "    month = int(datestring[4:6])\n",
    "    day = int(datestring[6:8])\n",
    "    return datetime.date(year, month, day)\n",
    "\n",
    "def addSecondsToTimeObject(time:datetime.time, seconds) -> datetime.time:\n",
    "    datetime_object = datetime.datetime(100,1,1,time.hour, time.minute, time.second)\n",
    "    delta = datetime.timedelta(seconds=seconds)\n",
    "    return (datetime_object + delta).time()\n",
    "\n",
    "\n",
    "def getGtfsWeekdayFromDate(date: datetime.date):\n",
    "    weekday_number = date.weekday()\n",
    "    if weekday_number == 0:\n",
    "        return \"monday\"\n",
    "    elif weekday_number == 1:\n",
    "        return \"tuesday\"\n",
    "    elif weekday_number == 2:\n",
    "        return \"wednesday\"\n",
    "    elif weekday_number == 3:\n",
    "        return \"thursday\"\n",
    "    elif weekday_number == 4:\n",
    "        return \"friday\"\n",
    "    elif weekday_number == 5:\n",
    "        return \"saturday\"\n",
    "    else:\n",
    "        return \"sunday\"\n",
    "    "
   ]
  },
  {
   "cell_type": "markdown",
   "id": "f8cc7e34-dbb3-411f-8da8-fe542058cee7",
   "metadata": {
    "panel-layout": {
     "height": 101.53408813476562,
     "visible": true,
     "width": 100
    }
   },
   "source": [
    "## 2. Fetch trip_updates\n",
    "\n",
    "Now we want to fetch the trip_updates from the realtime api to later enrich our static schedules with real time delay data.\n",
    "To do that, we must first authenticate via oauth2 and then call the tripupdates endpoint."
   ]
  },
  {
   "cell_type": "code",
   "execution_count": 7,
   "id": "af9ca5b1-1a59-400a-bd00-77bcc305bd0d",
   "metadata": {},
   "outputs": [
    {
     "name": "stdout",
     "output_type": "stream",
     "text": [
      "{'trip': {'tripId': '23-2-1-73260', 'startTime': '20:21:00', 'startDate': '20241028', 'scheduleRelationship': 'SCHEDULED', 'routeId': '23-2-23'}, 'stopTimeUpdate': [{'stopSequence': 11, 'arrival': {'delay': 0}, 'stopId': '126321'}, {'stopSequence': 20, 'arrival': {'delay': 0}, 'stopId': '116821'}, {'stopSequence': 21, 'arrival': {'delay': 1}, 'stopId': '114601'}]}\n"
     ]
    }
   ],
   "source": [
    "# load env\n",
    "from dotenv import load_dotenv\n",
    "from os import getenv\n",
    "import requests\n",
    "\n",
    "load_dotenv()\n",
    "\n",
    "# authenticate with oauth2\n",
    "client_id = getenv('gtfs_clientID')\n",
    "client_secret = getenv('gtfs_clientSecret')\n",
    "resource = getenv('gtfs_resource')\n",
    "tenant_id = getenv('gtfs_tenantID')\n",
    "hostname = getenv('gtfs_hostname')\n",
    "\n",
    "\n",
    "from oauthlib.oauth2 import WebApplicationClient\n",
    "client = WebApplicationClient(client_id)\n",
    "\n",
    "# prepare x-www-form-urlencoded body data\n",
    "data = f'grant_type=client_credentials&resource={resource}&client_id={client_id}&client_secret={client_secret}'\n",
    "\n",
    "auth_url = f'https://login.microsoftonline.com/{tenant_id}/oauth2/token'\n",
    "headers= { 'Content-type':'application/x-www-form-urlencoded'}\n",
    "\n",
    "auth_response = requests.post(auth_url, data=data, headers=headers)\n",
    "auth = client.parse_request_body_response(auth_response.text)\n",
    "\n",
    "gtfs_access_token = auth['access_token']\n",
    "\n",
    "# fetch tripupdates\n",
    "import json\n",
    "\n",
    "trip_updates_json_url = f'{hostname}/tripupdates/decoded'\n",
    "headers = {'Authorization':f'Bearer {gtfs_access_token}'}\n",
    "\n",
    "trip_updates_response = requests.get(trip_updates_json_url, headers=headers)\n",
    "trip_updates = json.loads(trip_updates_response.text)['entity']\n",
    "\n",
    "trip_updates = [trip_update['tripUpdate'] for trip_update in trip_updates]\n",
    "\n",
    "print(trip_updates[0])\n",
    "#print(trip_updates['entity'][0]['tripUpdate']['stopTimeUpdate'])\n",
    "\n",
    "\n",
    "\n",
    "\n",
    "\n"
   ]
  },
  {
   "cell_type": "markdown",
   "id": "6e2ee90e-d30c-455c-ab72-f81eb8363349",
   "metadata": {
    "panel-layout": {
     "height": 84.38919830322266,
     "visible": true,
     "width": 100
    }
   },
   "source": [
    "## 3. preprocess data\n",
    "\n",
    "Firstly, we need to select only trip_updates, trips, stop_times, stops and routes for our relevant lines to reduce unnecessary processing.\n",
    "Furhtermore, we only want trips and stop_times that run + - 1 hour of the current time, assuming that no train has more than 60 minutes of delay, to reduce unnecessary processing."
   ]
  },
  {
   "cell_type": "code",
   "execution_count": 9,
   "id": "5dcf954b-aae3-4f55-8949-bdc848f643ac",
   "metadata": {
    "panel-layout": {
     "height": 0,
     "visible": true,
     "width": 100
    }
   },
   "outputs": [
    {
     "name": "stdout",
     "output_type": "stream",
     "text": [
      "   route_id          trip_id                               service_id  \\\n",
      "8    5-23-5  5-23-3005-72900              295-296-297-298-299-301-309   \n",
      "9    5-82-5     5-82-5-75900          295-296-297-298-299-300-301-309   \n",
      "10   5-20-5     5-20-5-78180              295-296-297-298-299-300-309   \n",
      "38  5-105-5    5-105-1-75000  295-296-297-298-299-302-303-304-305-309   \n",
      "47   5-23-5  5-23-3005-76500          295-296-297-298-299-300-301-309   \n",
      "\n",
      "   trip_short_name start_time  end_time  \n",
      "8                5   20:15:00  20:52:15  \n",
      "9                5   21:05:00  21:43:05  \n",
      "10               5   21:43:00  23:06:15  \n",
      "38               5   20:50:00  20:58:15  \n",
      "47               5   21:15:00  21:52:15  \n",
      "          trip_id arrival_time departure_time  stop_sequence  stop_id\n",
      "502  5-1-51-64500     19:48:00       19:48:15             61    51602\n",
      "503  5-1-51-64500     19:49:00       19:49:15             62    51502\n",
      "504  5-1-51-64500     19:51:00       19:51:15             63   574202\n",
      "505  5-1-51-64500     19:53:00       19:53:15             64   348202\n",
      "506  5-1-51-64500     19:54:00       20:00:15             65   347902\n"
     ]
    }
   ],
   "source": [
    "# select only trip_updates of relevant trips, indicated by the refernced trip.tripId\n",
    "trip_updates = [trip_update for trip_update in trip_updates if trip_update['trip']['tripId'].startswith(tuple(relevant_trip_prefixes))]\n",
    "\n",
    "# select only routes, trips and stop_times of relevant lines, indicated by the route_id / trip_id\n",
    "routes = routes.loc[routes['route_id'].str.startswith(tuple(relevant_trip_prefixes))]\n",
    "trips = trips.loc[trips['trip_id'].str.startswith(tuple(relevant_trip_prefixes))]\n",
    "stop_times = stop_times.loc[stop_times['trip_id'].str.startswith(tuple(relevant_trip_prefixes))]\n",
    "\n",
    "current_time = datetime.datetime.now().time()\n",
    "\n",
    "def isInOneHourOfCurrentTime(start_gtfs_timestring, end_gtfs_timestring, current_time):\n",
    "    start = parseTimeAsDatetimeObject(start_gtfs_timestring)\n",
    "    end = parseTimeAsDatetimeObject(start_gtfs_timestring)\n",
    "\n",
    "    one_hour_window_start = addSecondsToTimeObject(start, -60 * 60)\n",
    "    one_hour_window_end = addSecondsToTimeObject(end, 60 * 60)\n",
    "\n",
    "    return one_hour_window_start <= current_time <= one_hour_window_end\n",
    "    \n",
    "\n",
    "# select only trips and stop_times that are scheduled + - 1 hour of the current time, assuming that no train has more than 60 minutes of delay\n",
    "trips = trips.loc[trips.apply(lambda row: isInOneHourOfCurrentTime(row['start_time'], row['end_time'], current_time), axis=1)]\n",
    "stop_times = stop_times.loc[stop_times.apply(lambda row: isInOneHourOfCurrentTime(row['arrival_time'], row['departure_time'], current_time), axis=1)]\n",
    "\n",
    "print(trips.head(5))\n",
    "print(stop_times.head(5))\n"
   ]
  },
  {
   "cell_type": "markdown",
   "id": "a8e369ab-8489-4b45-b4d2-be669b2aead7",
   "metadata": {
    "panel-layout": {
     "height": 119.70170593261719,
     "visible": true,
     "width": 100
    }
   },
   "source": [
    "According to gtfs-rt specification, the stopTimeUpdates only include updates of the delay. If a tram is delayed for 30 seconds departing stop 1, arriving at stop 2, departing stop 2 and then gets to stop 3 on time, the stopTimeUpdates will only include one entry for delay 30 (departure) at stop 1 and delay 0 (arrival) stop 3.\n",
    "To prepare enriching the stop_times with the delays, we simply fill the missing stopTimeUpdates.\n",
    "We will later use stopSequence to identify a stop, because we can simply calculate the stopSequence for the artificially filled stopTimeUpdated, but can't do it as easily with the stopIds."
   ]
  },
  {
   "cell_type": "code",
   "execution_count": 11,
   "id": "6c6aab21-b993-46cc-8690-b24959034347",
   "metadata": {},
   "outputs": [
    {
     "name": "stdout",
     "output_type": "stream",
     "text": [
      "{'trip': {'tripId': '23-2-1-73260', 'startTime': '20:21:00', 'startDate': '20241028', 'scheduleRelationship': 'SCHEDULED', 'routeId': '23-2-23'}, 'stopTimeUpdate': [{'stopSequence': 1, 'arrival': {'delay': 0}, 'departure': {'delay': 0}}, {'stopSequence': 2, 'arrival': {'delay': 0}, 'departure': {'delay': 0}}, {'stopSequence': 3, 'arrival': {'delay': 0}, 'departure': {'delay': 0}}, {'stopSequence': 4, 'arrival': {'delay': 0}, 'departure': {'delay': 0}}, {'stopSequence': 5, 'arrival': {'delay': 0}, 'departure': {'delay': 0}}, {'stopSequence': 6, 'arrival': {'delay': 0}, 'departure': {'delay': 0}}, {'stopSequence': 7, 'arrival': {'delay': 0}, 'departure': {'delay': 0}}, {'stopSequence': 8, 'arrival': {'delay': 0}, 'departure': {'delay': 0}}, {'stopSequence': 9, 'arrival': {'delay': 0}, 'departure': {'delay': 0}}, {'stopSequence': 10, 'arrival': {'delay': 0}, 'departure': {'delay': 0}}, {'stopSequence': 11, 'arrival': {'delay': 0}, 'departure': {'delay': 0}}, {'stopSequence': 12, 'arrival': {'delay': 0}, 'departure': {'delay': 0}}, {'stopSequence': 13, 'arrival': {'delay': 0}, 'departure': {'delay': 0}}, {'stopSequence': 14, 'arrival': {'delay': 0}, 'departure': {'delay': 0}}, {'stopSequence': 15, 'arrival': {'delay': 0}, 'departure': {'delay': 0}}, {'stopSequence': 16, 'arrival': {'delay': 0}, 'departure': {'delay': 0}}, {'stopSequence': 17, 'arrival': {'delay': 0}, 'departure': {'delay': 0}}, {'stopSequence': 18, 'arrival': {'delay': 0}, 'departure': {'delay': 0}}, {'stopSequence': 19, 'arrival': {'delay': 0}, 'departure': {'delay': 0}}, {'stopSequence': 20, 'arrival': {'delay': 0}, 'departure': {'delay': 0}}, {'stopSequence': 21, 'arrival': {'delay': 1}, 'departure': {'delay': 1}}]}\n"
     ]
    }
   ],
   "source": [
    "# iterate over the trip_updates\n",
    "for trip_update in trip_updates:\n",
    "    # find the last stopSequence for the trip\n",
    "    trip_id = trip_update['trip']['tripId']\n",
    "\n",
    "    stop_times_for_trip = stop_times.loc[stop_times['trip_id'] == trip_id]\n",
    "\n",
    "    # skip updates for unknown trips, e.g. emergency services not known to GTFS schedule\n",
    "    if len(stop_times_for_trip) == 0:\n",
    "        continue\n",
    "        \n",
    "    #print(stop_times_for_trip)\n",
    "    stop_times_for_trip = stop_times_for_trip.sort_values(by=['stop_sequence'])\n",
    "    last_stop_sequence = int(stop_times_for_trip.iloc[-1]['stop_sequence']) \n",
    "\n",
    "    stop_time_updates = trip_update['stopTimeUpdate']\n",
    "    stop_time_updates_filled = []\n",
    "\n",
    "    # fill stop_time_updates for every stopSequence\n",
    "    current_trip_delay_seconds = 0\n",
    "    for stop_sequence in range(1,last_stop_sequence + 1):\n",
    "        \n",
    "        # check if stopTimeUpdate exists\n",
    "        existing_stop_time_updates = [stop_time_update for stop_time_update in stop_time_updates if stop_time_update['stopSequence'] == stop_sequence]\n",
    "        # no stopTimeUpdate exists, generate a new one with current_trip_delay\n",
    "        if len(existing_stop_time_updates) == 0:\n",
    "            stop_time_updates_filled.append({'stopSequence': stop_sequence, \n",
    "                                             'arrival': {'delay': current_trip_delay_seconds}, \n",
    "                                             'departure': {'delay': current_trip_delay_seconds}})\n",
    "        # otherwise use the delays that already exist, update current_trip delay and fill arrival and departure with current_trip_delay if missing\n",
    "        \n",
    "        else:\n",
    "            # determine arrival_delay\n",
    "            existing_stop_time_update = existing_stop_time_updates[0]\n",
    "\n",
    "               \n",
    "            arrival_delay = existing_stop_time_update['arrival']['delay'] if 'arrival' in existing_stop_time_update else current_trip_delay_seconds\n",
    "            \n",
    "            # update current trip delay, if no arrival delay was specified, it virtually stays the same\n",
    "            current_trip_delay_seconds = arrival_delay\n",
    "\n",
    "            # determine departure_delay\n",
    "            existing_stop_time_update = existing_stop_time_updates[0]\n",
    "            departure_delay = existing_stop_time_update['departure']['delay'] if 'departure' in existing_stop_time_update else current_trip_delay_seconds\n",
    "            \n",
    "            # update current trip delay, if no arrival delay was specified, it virtually stays the same\n",
    "            current_trip_delay_seconds = departure_delay\n",
    "\n",
    "            stop_time_updates_filled.append({'stopSequence': stop_sequence, \n",
    "                                             'arrival': {'delay': arrival_delay}, \n",
    "                                             'departure': {'delay': departure_delay}})\n",
    "\n",
    "    # replace stopTimeUpdate with filled version\n",
    "    trip_update['stopTimeUpdate'] = stop_time_updates_filled\n",
    "\n",
    "try:\n",
    "    print(trip_updates[0])\n",
    "except IndexError:\n",
    "    print('no trip updates found')\n",
    "    "
   ]
  },
  {
   "cell_type": "markdown",
   "id": "cd0b509b-a2b9-445f-bf41-9b5cef573540",
   "metadata": {
    "panel-layout": {
     "height": 118.67897033691406,
     "visible": true,
     "width": 100
    }
   },
   "source": [
    "## 4. enrich stop_times with realtime delays\n",
    "\n",
    "\n",
    "\n",
    "Now, we can add the real time delay to the scheduled stop_times.\n",
    "We create two new columns, arrival_realtime and departure_realtime, and calculate the realtime arrival and departure times using the trip_updates from the previous step. If no trip_update exists, we will simply copy the scheduled times."
   ]
  },
  {
   "cell_type": "code",
   "execution_count": 13,
   "id": "96c9d5bc-ecf6-4d7b-a4e5-4c2431d6d7f0",
   "metadata": {
    "panel-layout": {
     "height": 0,
     "visible": true,
     "width": 100
    }
   },
   "outputs": [
    {
     "name": "stdout",
     "output_type": "stream",
     "text": [
      "          trip_id arrival_time departure_time  stop_sequence  stop_id  \\\n",
      "502  5-1-51-64500     19:48:00       19:48:15             61    51602   \n",
      "503  5-1-51-64500     19:49:00       19:49:15             62    51502   \n",
      "504  5-1-51-64500     19:51:00       19:51:15             63   574202   \n",
      "505  5-1-51-64500     19:53:00       19:53:15             64   348202   \n",
      "506  5-1-51-64500     19:54:00       20:00:15             65   347902   \n",
      "\n",
      "    arrival_realtime departure_realtime  \n",
      "502         19:48:00           19:48:15  \n",
      "503         19:49:00           19:49:15  \n",
      "504         19:51:00           19:51:15  \n",
      "505         19:53:00           19:53:15  \n",
      "506         19:54:00           20:00:15  \n"
     ]
    }
   ],
   "source": [
    "def calculateRealtime(stop_time, arrival_or_departure):\n",
    "    \n",
    "    trip_id = stop_time['trip_id']\n",
    "    scheduled_time = stop_time[f'{arrival_or_departure}_time']\n",
    "    stop_sequence = stop_time['stop_sequence']\n",
    "    \n",
    "    # find the corresponding trip_update, if it exists\n",
    "    trip_updates_for_stop_time = [trip_update for trip_update in trip_updates if trip_update['trip']['tripId'] == trip_id]\n",
    "    \n",
    "    # if no trip updates exist, the scheduled time is used instead\n",
    "    if len(trip_updates_for_stop_time) == 0:\n",
    "       return scheduled_time\n",
    "   \n",
    "    trip_update_for_stop_time = trip_updates_for_stop_time[0]\n",
    "    \n",
    "    # find the stopTimeUpdate for this stop\n",
    "    stop_time_updates_for_stop_time = [stop_time_update for stop_time_update in trip_update_for_stop_time['stopTimeUpdate']]\n",
    "\n",
    "    # if no stop time updates exist, the scheduled time is used instead\n",
    "    if len(stop_time_updates_for_stop_time) == 0:\n",
    "        return scheduled_time\n",
    "\n",
    "    stop_time_update_for_stop_time = stop_time_updates_for_stop_time[0]\n",
    "\n",
    "    \n",
    "    # add delay to scheduled time\n",
    "    scheduled_time_object = parseTimeAsDatetimeObject(scheduled_time)\n",
    "    delay = stop_time_update_for_stop_time[arrival_or_departure]['delay']\n",
    "    # account for artificially added departure delay of 15 seconds from preprocessing 3.\n",
    "    # => departure delays up to 15 seconds are already accounted for\n",
    "    if arrival_or_departure == 'departure':\n",
    "        delay = max(delay - 15,0)\n",
    "        \n",
    "    realtime = addSecondsToTimeObject(scheduled_time_object, delay).isoformat()\n",
    "\n",
    "    return realtime\n",
    "                                       \n",
    "\n",
    "\n",
    "arrivals_realtime = [calculateRealtime(stop_time, 'arrival') for i, stop_time in stop_times.iterrows()]\n",
    "departures_realtime = [calculateRealtime(stop_time, 'departure') for i, stop_time in stop_times.iterrows()]\n",
    "\n",
    "# add columns to stop_times\n",
    "\n",
    "stop_times['arrival_realtime'] = arrivals_realtime\n",
    "stop_times['departure_realtime'] = departures_realtime\n",
    "\n",
    "\n",
    "print(stop_times[:5])"
   ]
  },
  {
   "cell_type": "markdown",
   "id": "8fb81dd4-22b8-44ee-be2e-fe739892a2de",
   "metadata": {
    "panel-layout": {
     "height": 103.3522720336914,
     "visible": true,
     "width": 100
    }
   },
   "source": [
    "## 5. add realtime start and end times to trips\n",
    "To make it easy to identify the active trips, we will now add start and end times to each trip. First, we will create a function to get all the stop_times for a specific `trip_id`. Then we will sort the stop_times and return the first `arrival_time` as trip start and the last `departure_time` as trip end."
   ]
  },
  {
   "cell_type": "code",
   "execution_count": 15,
   "id": "4910551c-6a20-4dfa-8791-517b62347547",
   "metadata": {
    "panel-layout": {
     "height": 0,
     "visible": true,
     "width": 100
    }
   },
   "outputs": [],
   "source": [
    "def getTripStartRealtime(trip_id:str) -> tuple[str, str]:\n",
    "    relevant_stop_times = stop_times.loc[stop_times['trip_id'] == trip_id]\n",
    "    #print('found ',relevant_stop_times.shape[0], 'relevant stop times for trip_id', trip_id)\n",
    "    \n",
    "    relevant_stop_times = relevant_stop_times.sort_values(by=['stop_sequence'])\n",
    "    \n",
    "    first_stop = relevant_stop_times.iloc[0]\n",
    "    trip_start_time = first_stop.loc['arrival_realtime']\n",
    "\n",
    "    return trip_start_time\n",
    "\n",
    "def getTripEndRealtime(trip_id:str) -> tuple[str, str]:\n",
    "    relevant_stop_times = stop_times.loc[stop_times['trip_id'] == trip_id]\n",
    "    #print('found ',relevant_stop_times.shape[0], 'relevant stop times for trip_id', trip_id)\n",
    "    \n",
    "    relevant_stop_times = relevant_stop_times.sort_values(by=['stop_sequence'])\n",
    "    \n",
    "    last_stop = relevant_stop_times.iloc[-1]\n",
    "    trip_end_time = last_stop.loc['departure_realtime']\n",
    "    \n",
    "    return trip_end_time\n"
   ]
  },
  {
   "cell_type": "markdown",
   "id": "532b762d-5a30-4c25-b218-fdbda8b29b3b",
   "metadata": {
    "panel-layout": {
     "height": 51.12215805053711,
     "visible": true,
     "width": 100
    }
   },
   "source": [
    "Now let's add the new columns by using the function we just created."
   ]
  },
  {
   "cell_type": "code",
   "execution_count": 17,
   "id": "371cdde3-7de2-4f06-b9c2-4787b898446b",
   "metadata": {
    "panel-layout": {
     "height": 0,
     "visible": true,
     "width": 100
    }
   },
   "outputs": [
    {
     "name": "stdout",
     "output_type": "stream",
     "text": [
      "   route_id          trip_id                               service_id  \\\n",
      "8    5-23-5  5-23-3005-72900              295-296-297-298-299-301-309   \n",
      "9    5-82-5     5-82-5-75900          295-296-297-298-299-300-301-309   \n",
      "10   5-20-5     5-20-5-78180              295-296-297-298-299-300-309   \n",
      "38  5-105-5    5-105-1-75000  295-296-297-298-299-302-303-304-305-309   \n",
      "47   5-23-5  5-23-3005-76500          295-296-297-298-299-300-301-309   \n",
      "\n",
      "   trip_short_name start_time  end_time start_realtime end_realtime  \n",
      "8                5   20:15:00  20:52:15       20:15:00     20:52:15  \n",
      "9                5   21:05:00  21:43:05       21:05:00     21:43:05  \n",
      "10               5   21:43:00  23:06:15       21:43:00     21:45:15  \n",
      "38               5   20:50:00  20:58:15       20:50:00     20:58:15  \n",
      "47               5   21:15:00  21:52:15       21:15:00     21:46:15  \n"
     ]
    }
   ],
   "source": [
    "trips['start_realtime'] = trips.apply(lambda row: getTripStartRealtime(row['trip_id']), axis=1)\n",
    "trips['end_realtime'] = trips.apply(lambda row: getTripEndRealtime(row['trip_id']), axis=1)\n",
    "\n",
    "print(trips.head(5))"
   ]
  },
  {
   "cell_type": "markdown",
   "id": "36c8b268-7eb6-472b-803b-4a4dafae485b",
   "metadata": {
    "panel-layout": {
     "height": 50.82386016845703,
     "visible": true,
     "width": 100
    }
   },
   "source": [
    "## 6. currently active trips"
   ]
  },
  {
   "cell_type": "markdown",
   "id": "4d90f856-529c-402f-83c1-c20d7d766ae6",
   "metadata": {
    "panel-layout": {
     "height": 85.41192626953125,
     "visible": true,
     "width": 100
    }
   },
   "source": [
    "First, we need to get all the trip_ids for currently active trips. Trips are active, if the current time is between the start and end time of the trip and if one of the services, the trip belongs to, runs on the current day.\n",
    "Let's start by looking at the start and end times of the trips."
   ]
  },
  {
   "cell_type": "code",
   "execution_count": 20,
   "id": "7cce0d78-3fad-4639-8b0d-a1001a7de55f",
   "metadata": {
    "panel-layout": {
     "height": 0,
     "visible": true,
     "width": 100
    }
   },
   "outputs": [
    {
     "name": "stdout",
     "output_type": "stream",
     "text": [
      "2024-10-28 20:46:10.651418\n",
      "found 42 trips that run at the current time\n",
      "    route_id          trip_id                               service_id  \\\n",
      "8     5-23-5  5-23-3005-72900              295-296-297-298-299-301-309   \n",
      "127   5-20-5     5-20-5-74580              295-296-297-298-299-300-309   \n",
      "152   5-83-5  5-83-2005-74700              295-296-297-298-299-300-309   \n",
      "169  5-105-5    5-105-1-74400  295-296-297-298-299-302-303-304-305-309   \n",
      "214   5-23-5  5-23-3005-74700          295-296-297-298-299-300-301-309   \n",
      "\n",
      "    trip_short_name start_time  end_time start_realtime end_realtime  \n",
      "8                 5   20:15:00  20:52:15       20:15:00     20:52:15  \n",
      "127               5   20:43:00  22:06:15       20:43:00     21:46:15  \n",
      "152               5   20:45:00  22:15:05       20:45:00     21:45:15  \n",
      "169               5   20:40:00  20:48:15       20:40:00     20:48:54  \n",
      "214               5   20:45:00  21:22:15       20:45:00     21:22:15  \n"
     ]
    }
   ],
   "source": [
    "print(datetime.datetime.now())\n",
    "\n",
    "def isTripRowActiveAtCurrentTime(trip_row):\n",
    "    start_time = parseTimeAsDatetimeObject(trip_row['start_realtime'])\n",
    "    current_time = datetime.datetime.now().time() \n",
    "    end_time = parseTimeAsDatetimeObject(trip_row['end_realtime'])\n",
    "    #print(start_time, current_time, end_time, start_time <= current_time <= end_time)\n",
    "    return start_time <= current_time <= end_time\n",
    "    \n",
    "\n",
    "# select trips where current time is between start and end time\n",
    "trips = trips[trips.apply(isTripRowActiveAtCurrentTime, axis=1)]\n",
    "print(\"found\", trips.shape[0], \"trips that run at the current time\")\n",
    "print(trips.head(5))"
   ]
  },
  {
   "cell_type": "markdown",
   "id": "c9c89e47-fa55-4a4d-8e60-246883b0675a",
   "metadata": {
    "panel-layout": {
     "height": 70.0852279663086,
     "visible": true,
     "width": 100
    }
   },
   "source": [
    "Secondly, we will check whether the services run on the current day by looking up the services from the `service_id` column in the calendar dataframe.\n",
    "As soon as we find a `service_id` that runs on the current day, we can stop the search and return true, otherwise we return false."
   ]
  },
  {
   "cell_type": "code",
   "execution_count": 22,
   "id": "f77fa432-6d33-4685-9b87-1ea38954802b",
   "metadata": {
    "panel-layout": {
     "height": 0,
     "visible": true,
     "width": 100
    }
   },
   "outputs": [
    {
     "name": "stdout",
     "output_type": "stream",
     "text": [
      "    route_id          trip_id                               service_id  \\\n",
      "8     5-23-5  5-23-3005-72900              295-296-297-298-299-301-309   \n",
      "127   5-20-5     5-20-5-74580              295-296-297-298-299-300-309   \n",
      "152   5-83-5  5-83-2005-74700              295-296-297-298-299-300-309   \n",
      "169  5-105-5    5-105-1-74400  295-296-297-298-299-302-303-304-305-309   \n",
      "214   5-23-5  5-23-3005-74700          295-296-297-298-299-300-301-309   \n",
      "\n",
      "    trip_short_name start_time  end_time start_realtime end_realtime  \n",
      "8                 5   20:15:00  20:52:15       20:15:00     20:52:15  \n",
      "127               5   20:43:00  22:06:15       20:43:00     21:46:15  \n",
      "152               5   20:45:00  22:15:05       20:45:00     21:45:15  \n",
      "169               5   20:40:00  20:48:15       20:40:00     20:48:54  \n",
      "214               5   20:45:00  21:22:15       20:45:00     21:22:15  \n"
     ]
    }
   ],
   "source": [
    "def isTripRowActiveOnCurrentDay(trip_row):\n",
    "    current_date = datetime.date.today()\n",
    "    current_weekday_gtfs = getGtfsWeekdayFromDate(datetime.date.today())\n",
    "\n",
    "    \n",
    "    calendar:pd.DataFrame = pd.read_csv(calendar_path)\n",
    "\n",
    "    # select row from calendar for this service\n",
    "    calendar = calendar[calendar['service_id'] == trip_row['service_id']]\n",
    "\n",
    "    # check every calendar entry\n",
    "    for index, schedule in calendar.iterrows():\n",
    "        # check if current date is between start_date and end_date (inclusive)\n",
    "        start_date = parseDateAsDatetimeObject(schedule['start_date'])\n",
    "        end_date = parseDateAsDatetimeObject(schedule['end_date'])\n",
    "\n",
    "        duration_check = start_date <= current_date <= end_date\n",
    "\n",
    "        # check if current weekday is an active day in the schedule\n",
    "        weekday_check = schedule[current_weekday_gtfs] == 1\n",
    "\n",
    "        if duration_check and weekday_check:\n",
    "            return True\n",
    "                \n",
    "    return False\n",
    "    \n",
    "trips = trips[trips.apply(isTripRowActiveOnCurrentDay, axis=1)]\n",
    "print(trips.head(5))"
   ]
  },
  {
   "cell_type": "markdown",
   "id": "6293f6d5-a03b-4dcd-a8ee-4715b6483938",
   "metadata": {
    "panel-layout": {
     "height": 257.5141906738281,
     "visible": true,
     "width": 100
    }
   },
   "source": [
    "## 7. Status of active trips\n",
    "Now that we have identified all the trips that are currently running, we want to know where the trams are on our network. As we later want to represent a vehicle being at a stop as well as a vehicle traveling between stops, we will represent the status of a vehicle (trip) as \n",
    "\n",
    "trip_id: <strip_id>, status: IN_TRANSIT_TO / STOPPED_AT, current_stop_id: <stop_id>, previous_stop_id: <stop_id>\n",
    "\n",
    "\n",
    "Additionally, we want to represent the direction of travel by having one LED line per direction. All stops of each section of track between intersections will be organized in a sorted list per direction, e.g. for the section between Bismarckplatz and Stadtbücherei\n",
    "Bismarckplatz (A) -> Seegarten (A) -> Stadtbücherei (A)\n",
    "\n",
    "Each tuple of each direction will have LEDs assigned. The LED's name is composed of the respective stop_ids. e.g. Bismarckplatz (A) (stopId 114601) -> Seegarten(A) (stopId 116821) gets LEDs 114601_116821_T and 114601_116821_S (transit and stopped) assigned. The LED Codes are mapped to their respective hardware addresses. To allow a map creation with only one led for both directions, and also account sections with only one track, the LED-code to LED-hardware address mapping is a many to many mapping.\n",
    "\n"
   ]
  },
  {
   "cell_type": "markdown",
   "id": "a21eda75-bced-4394-9780-69c6c08125c9",
   "metadata": {
    "panel-layout": {
     "height": 51.12215805053711,
     "visible": true,
     "width": 100
    }
   },
   "source": [
    "First, let's define some functions:"
   ]
  },
  {
   "cell_type": "code",
   "execution_count": 25,
   "id": "3bc194bb-3bf8-4cac-8205-b770db66bce5",
   "metadata": {
    "panel-layout": {
     "height": 0,
     "visible": true,
     "width": 100
    }
   },
   "outputs": [
    {
     "name": "stdout",
     "output_type": "stream",
     "text": [
      "           status  current_stop_id previous_stop_id  \\\n",
      "0      STOPPED_AT           244401           554301   \n",
      "1   IN_TRANSIT_TO           408401           408501   \n",
      "2   IN_TRANSIT_TO           247121           241722   \n",
      "3      STOPPED_AT           235801           236701   \n",
      "4      STOPPED_AT           410901           414601   \n",
      "5      STOPPED_AT           126021           123321   \n",
      "6      STOPPED_AT           554501           554701   \n",
      "7   IN_TRANSIT_TO           408401           408501   \n",
      "8      STOPPED_AT           411301           410501   \n",
      "9      STOPPED_AT           235801           236701   \n",
      "10     STOPPED_AT           414601            DEPOT   \n",
      "11  IN_TRANSIT_TO            61901           130402   \n",
      "12     STOPPED_AT           256902           200602   \n",
      "13  IN_TRANSIT_TO           126102           125602   \n",
      "14     STOPPED_AT           679101           679421   \n",
      "15  IN_TRANSIT_TO           126101            69501   \n",
      "16     STOPPED_AT           188201           188601   \n",
      "17  IN_TRANSIT_TO           189002           127802   \n",
      "18  IN_TRANSIT_TO           116821           119321   \n",
      "19     STOPPED_AT           127321           126321   \n",
      "20     STOPPED_AT           133301           113522   \n",
      "21     STOPPED_AT           114421           115121   \n",
      "22     STOPPED_AT           119622           114602   \n",
      "23     STOPPED_AT           120701           121902   \n",
      "\n",
      "                       current_stop_name  \\\n",
      "0              Nationaltheater (Steig B)   \n",
      "1     Lützelsachsen Bergstraße (Steig 1)   \n",
      "2                  Universität (Steig A)   \n",
      "3           Bensheimer Straße (Steig 23)   \n",
      "4        Weinheim Hauptbahnhof (Steig 2)   \n",
      "5                Brückenstraße (Steig A)   \n",
      "6            Mannheimer Straße (Steig A)   \n",
      "7     Lützelsachsen Bergstraße (Steig 1)   \n",
      "8   Weinheim Freiburger Straße (Steig 2)   \n",
      "9           Bensheimer Straße (Steig 23)   \n",
      "10  Weinheim Alter OEG-Bahnhof (Steig 2)   \n",
      "11             Edingen Bahnhof (Steig 2)   \n",
      "12              Collini-Center (Steig 1)   \n",
      "13            Kranichweg/Stotz (Steig B)   \n",
      "14                  Ringstraße (Steig B)   \n",
      "15            Kranichweg/Stotz (Steig A)   \n",
      "16      Johannes-Reidel-Straße (Steig B)   \n",
      "17                  Zementwerk (Steig A)   \n",
      "18                   Seegarten (Steig A)   \n",
      "19                 Markscheide (Steig B)   \n",
      "20          Heiligenbergschule (Steig A)   \n",
      "21                 Betriebshof (Steig B)   \n",
      "22             Altes Hallenbad (Steig A)   \n",
      "23          Kirchheim Friedhof (Steig A)   \n",
      "\n",
      "                      previous_stop_name route_color_hex       statuscode  \n",
      "0         Theresienkrankenhaus (Steig A)          00975F  554301_244401_S  \n",
      "1     Lützelsachsen Pilgerhaus (Steig 1)          00975F  408501_408401_T  \n",
      "2              MA Hauptbahnhof (Steig D)          00975F  241722_247121_T  \n",
      "3       Platz der Freundschaft (Steig 2)          00975F  236701_235801_S  \n",
      "4   Weinheim Alter OEG-Bahnhof (Steig 2)          00975F  414601_410901_S  \n",
      "5                Kußmaulstraße (Steig A)          00975F  123321_126021_S  \n",
      "6             Käfertal Bahnhof (Steig 2)          00975F  554701_554501_S  \n",
      "7     Lützelsachsen Pilgerhaus (Steig 1)          00975F  408501_408401_T  \n",
      "8                 Blumenstraße (Steig 2)          00975F  410501_411301_S  \n",
      "9       Platz der Freundschaft (Steig 2)          00975F  236701_235801_S  \n",
      "10                                 DEPOT          00975F   DEPOT_414601_S  \n",
      "11       Wieblingen Taubenfeld (Steig 2)          00975F   130402_61901_T  \n",
      "12        Kurpfalzbrücke Ost (Steig nan)          00975F  200602_256902_S  \n",
      "13                 Marktstraße (Steig A)          FDC300  125602_126102_T  \n",
      "14           Montpellierbrücke (Steig A)          FDC300  679421_679101_S  \n",
      "15                 Jakobsgasse (Steig B)          FDC300   69501_126101_T  \n",
      "16           Georgi-Marktplatz (Steig B)          E48F00  188601_188201_S  \n",
      "17                Rohrbach Süd (Steig A)          E48F00  127802_189002_T  \n",
      "18               Stadtbücherei (Steig A)          E48F00  119321_116821_T  \n",
      "19            Eichendorffplatz (Steig B)          E48F00  126321_127321_S  \n",
      "20                 Kapellenweg (Steig B)          F39B9B  113522_133301_S  \n",
      "21                Czernybrücke (Steig A)          F39B9B  115121_114421_S  \n",
      "22               Bismarckplatz (Steig B)          F39B9B  114602_119622_S  \n",
      "23           Kirchheim Rathaus (Steig B)          F39B9B  121902_120701_S  \n"
     ]
    }
   ],
   "source": [
    "import pandas as pd\n",
    "\n",
    "# create status Dataframe for every active trip, then merge the Dataframes\n",
    "# status, current_stop_id, previous_stop_id\n",
    "\n",
    "\n",
    "current_time = datetime.datetime.now().time()\n",
    "\n",
    "\n",
    "def isStoppedAtStopTime(stop_time):\n",
    "    return parseTimeAsDatetimeObject(stop_time['arrival_realtime']) <= current_time <= parseTimeAsDatetimeObject(stop_time['departure_realtime'])\n",
    "\n",
    "# take stop times and iterator to check previous stop\n",
    "# check if the stop_time at position i of stop_times is currently being traveled to\n",
    "def isTravelingToStoptime(stop_times, i):\n",
    "    # loc because i is the pandas index of the row \n",
    "    current_stop_time = stop_times.loc[i]\n",
    "\n",
    "    # if there is no previous stop_time, this is the initial station which cannot be traveled to \n",
    "    try:\n",
    "        # i-1 is okay here, because the df is sorted \n",
    "        previous_stop_time = stop_times.loc[i-1]\n",
    "    except KeyError:\n",
    "        return False\n",
    "    has_arrived_at_stop_time = current_time <= parseTimeAsDatetimeObject(current_stop_time['arrival_realtime'])\n",
    "    has_departed_previous_stop_time = current_time >= parseTimeAsDatetimeObject(previous_stop_time['departure_realtime'])\n",
    "    return has_arrived_at_stop_time and has_departed_previous_stop_time\n",
    "\n",
    "def getPreviousStopId(stop_times, current_stop_time):\n",
    "    trip_id = current_stop_time['trip_id']\n",
    "    \n",
    "    current_stop_sequence = current_stop_time['stop_sequence']\n",
    "\n",
    "    # if the current stop time is the first stop time of the trip (1), there is no previous stop, so the vehicle is effectively coming out of the 'depot'\n",
    "    if current_stop_sequence == 1:\n",
    "        return 'DEPOT'\n",
    "        \n",
    "    previous_stop_sequence = current_stop_sequence - 1\n",
    "    \n",
    "    previous_stop_times = stop_times.loc[(stop_times['trip_id'] == trip_id) & (stop_times['stop_sequence'] == previous_stop_sequence)].reset_index(drop=True)\n",
    "    \n",
    "    previous_stop_time = previous_stop_times.iloc[0]\n",
    "\n",
    "    return previous_stop_time['stop_id']\n",
    "\n",
    "def getStopName(stops, stop_id):\n",
    "    if stop_id == 'DEPOT':\n",
    "        return 'DEPOT'\n",
    "   # should be 1 or 0\n",
    "    applicable_stops = stops.loc[stops['stop_id'] == stop_id]\n",
    "    if len(applicable_stops) == 0:\n",
    "        # stop not found\n",
    "        return 'ERROR'\n",
    "    else:\n",
    "        applicable_stop = applicable_stops.iloc[0]\n",
    "        return f\"{applicable_stop['stop_name']} (Steig {applicable_stop['platform_code']})\"\n",
    "\n",
    "status_df = pd.DataFrame()\n",
    "\n",
    "for i, active_trip in trips.iterrows():\n",
    "    trip_id = active_trip['trip_id']\n",
    "\n",
    "    stop_times_for_this_trip = stop_times.loc[stop_times['trip_id'] == trip_id]\n",
    "\n",
    "    # find stops, at which the vehicle is currently stopped (should be 0 or 1)\n",
    "    # vehicle is stopped, if current time is between arrival and departure of a stop\n",
    "    stop_times_stopped_at = [stop_time for _,stop_time in stop_times_for_this_trip.iterrows() if isStoppedAtStopTime(stop_time)]\n",
    "\n",
    "    # find stops that the vehicle is currently traveling to (should be 0 or 1)\n",
    "    # vehicle is traveling to a stop if it has not arrived a stop but already departed the previous stop\n",
    "    stop_times_traveling_to = [stop_time for i ,stop_time in stop_times_for_this_trip.iterrows() if isTravelingToStoptime(stop_times_for_this_trip, i)]\n",
    "\n",
    "    #print(trip_id, len(stop_times_stopped_at), len(stop_times_traveling_to))\n",
    "\n",
    "    status = ''\n",
    "    status_abbreviation = ''\n",
    "    current_stop_id = ''\n",
    "    previous_stop_id = ''\n",
    "    current_stop_name= ''\n",
    "    previous_stop_name=''\n",
    "\n",
    "\n",
    "    if len(stop_times_stopped_at) > 0:\n",
    "        status = 'STOPPED_AT'\n",
    "        status_abbreviation='S'\n",
    "        current_stop_time = stop_times_stopped_at[0]\n",
    "        current_stop_id = current_stop_time['stop_id']\n",
    "        previous_stop_id = getPreviousStopId(stop_times, current_stop_time)\n",
    "        current_stop_name = getStopName(stops, current_stop_id)\n",
    "        previous_stop_name = getStopName(stops, previous_stop_id)\n",
    "        \n",
    "    elif len(stop_times_traveling_to) > 0:\n",
    "        status = 'IN_TRANSIT_TO'\n",
    "        status_abbreviation='T'\n",
    "        current_stop_time = stop_times_traveling_to[0]\n",
    "        current_stop_id = current_stop_time['stop_id']\n",
    "        previous_stop_id = getPreviousStopId(stop_times, current_stop_time)\n",
    "        #print(current_stop_time)\n",
    "        current_stop_name = getStopName(stops, current_stop_id)\n",
    "        previous_stop_name = getStopName(stops, previous_stop_id)\n",
    "    else: \n",
    "        status = 'ERROR'\n",
    "\n",
    "  \n",
    "   \n",
    "        \n",
    "    route_id = active_trip['route_id']\n",
    "    route_color = routes.loc[routes['route_id'] == route_id]['route_color']\n",
    "\n",
    "   \n",
    "    statuscode = f\"{previous_stop_id}_{current_stop_id}_{status_abbreviation}\"\n",
    "    \n",
    "    status_df_row = pd.DataFrame({'status': [status], \n",
    "                  'current_stop_id': [current_stop_id], \n",
    "                  'previous_stop_id': [previous_stop_id], \n",
    "                  'current_stop_name': [current_stop_name], \n",
    "                  'previous_stop_name': [previous_stop_name],\n",
    "                                 'route_color_hex': route_color, 'statuscode':statuscode})\n",
    "\n",
    "    \n",
    "    status_df = pd.concat([status_df, status_df_row], ignore_index=True)\n",
    "\n",
    "print(status_df)"
   ]
  },
  {
   "cell_type": "markdown",
   "id": "2dbbb75d-809f-4f9b-bb3e-c2a842cc3541",
   "metadata": {
    "panel-layout": {
     "height": 549.53125,
     "visible": true,
     "width": 100
    }
   },
   "source": [
    "## 8. Convert status to LED Matrix\n",
    "To finally display the vehicles on our LED Matrix, we need to translate the statuses of the vehicles into LEDs.\n",
    "For this, we create a mapping as csv, which we read as pandas dataframe, that maps a status to LEDs.\n",
    "A status is encoded as \\<previous_stop_id>\\_\\<current_stop_id>_<T (transit) / S (stopped at)>, e.g. \n",
    "427404_427504_S for STOPPED_AT Gadamerplatz Steig A, coming from Eppelheimer Terrasse (Steig B)  \n",
    "The LEDs are addressed by their respective X and Y coordinate on the Matrix.\n",
    "In the mapping a status is mapped to one or more LEDs. LEDs are separated by &. LEDs can be referenced by multiple statuses.\n",
    "Example: \n",
    "When the train is stopped at Gadamerplatz Steig A coming from Eppelheimer Terrasse Steig B the LEDs x=0, y=0 and x=0, y=1 should light up.\n",
    "The csv would look as follows\n",
    "```\n",
    "statuscode,      leds  \n",
    "427404_427504_S, 0-0&0-1\n",
    "```\n",
    "\n",
    "The LED matrix is represented in a pandas dataframe with the cell \\[x,y] representing the LED at x,y in the matrix. The cell value is the HEX color(s) that the LED should display.  \n",
    "A cell value is either\n",
    "- 000000 => no light\n",
    "- single HEX-code (e.g. \"FDC300\") => static light FDC300\n",
    "- multiple HEX-codes separated by & (e.g. \"FDC300&B10346\") => light switching from FDC300 to B10346, indicating multiple vehicles on the same track\n",
    "\n",
    "This dataframe / csv is the final output of this notebook and will be the input for the script that directly controls the LED matrix.  \n",
    "To continue the example above, the output matrix, assuming the route color is FDC300 would be  \n",
    "None,0     ,1,2...  \n",
    "0   ,FDC300, ,  \n",
    "1   ,FDC300, ,  \n",
    "2   ,      , ,  \n",
    "...  \n",
    "\n",
    "\n",
    "\n"
   ]
  },
  {
   "cell_type": "code",
   "execution_count": 27,
   "id": "c00f3f58-9bdc-44ad-bd0f-e8faec2b6818",
   "metadata": {
    "panel-layout": {
     "height": 0,
     "visible": true,
     "width": 100
    }
   },
   "outputs": [
    {
     "name": "stdout",
     "output_type": "stream",
     "text": [
      "skipping statuscode554301_244401_S\n",
      "skipping statuscode408501_408401_T\n",
      "skipping statuscode241722_247121_T\n",
      "skipping statuscode236701_235801_S\n",
      "skipping statuscode414601_410901_S\n",
      "skipping statuscode123321_126021_S\n",
      "skipping statuscode554701_554501_S\n",
      "skipping statuscode408501_408401_T\n",
      "skipping statuscode410501_411301_S\n",
      "skipping statuscode236701_235801_S\n",
      "skipping statuscodeDEPOT_414601_S\n",
      "skipping statuscode130402_61901_T\n",
      "skipping statuscode200602_256902_S\n",
      "lighting led at x=39 and y=25\n",
      "lighting led at x=40 and y=25\n",
      "lighting led at x=14 and y=24\n",
      "lighting led at x=13 and y=24\n",
      "lighting led at x=44 and y=24\n",
      "lighting led at x=43 and y=24\n",
      "skipping statuscode188601_188201_S\n",
      "skipping statuscode127802_189002_T\n",
      "lighting led at x=8 and y=24\n",
      "lighting led at x=7 and y=24\n",
      "skipping statuscode126321_127321_S\n",
      "skipping statuscode113522_133301_S\n",
      "skipping statuscode115121_114421_S\n",
      "skipping statuscode114602_119622_S\n",
      "skipping statuscode121902_120701_S\n",
      "True\n"
     ]
    }
   ],
   "source": [
    "import pandas as pd\n",
    "import numpy as np\n",
    "\n",
    "# import mapping\n",
    "statuscode_led_mapping = pd.read_csv('./statuscode_led_mapping.csv', sep=';')\n",
    "\n",
    "# create led_matrix dataframe with all led colors set to black\n",
    "led_matrix = pd.DataFrame(np.full((32,64), \"000000\"))\n",
    "\n",
    "\n",
    "\n",
    "# iterate over status_df rows and display them\n",
    "for _, status_row in status_df.iterrows():\n",
    "    statuscode = status_row['statuscode']\n",
    "    route_color_hex = status_row['route_color_hex']\n",
    "\n",
    "    # get corresponding led coordinates from mapping\n",
    "    # if a statuscode occurs on more than one route, more than 1 mapping row will be found, but as a statuscode is always displayed on the same leds\n",
    "    # all rows will contain the same led coordinates\n",
    "    applicable_mapping_rows = statuscode_led_mapping[statuscode_led_mapping['statuscode'] == statuscode]\n",
    "    if len(applicable_mapping_rows) == 0:\n",
    "        # statuscode not in mapping yet\n",
    "        print(f\"skipping statuscode{statuscode}\") \n",
    "        continue\n",
    "    \n",
    "    statuscode_led_mapping_row = applicable_mapping_rows.loc[applicable_mapping_rows.index[0]]\n",
    "\n",
    "    led_mapping_string = statuscode_led_mapping_row['leds']\n",
    "    leds_xy = led_mapping_string.split(\"&\")\n",
    "    for led_xy in leds_xy:\n",
    "        x, y = led_xy.split(\"-\")\n",
    "        print(f\"lighting led at x={x} and y={y}\")\n",
    "        # .at works with [row (y), col(x)]\n",
    "        led_matrix.at[int(y),int(x)] = route_color_hex\n",
    "\n",
    "# header None so that column index and row index type are int on import and we can use [int][int] to locate datapoints\n",
    "led_matrix.to_csv('./led-matrix.csv', header=None, index=False)\n",
    "\n",
    "led_matrix_read = pd.read_csv('./led-matrix.csv',header=None, dtype=str, index_col=None)\n",
    "print(led_matrix_read[0][0] == \"000000\")\n",
    "led_matrix_read.at[0,0] = \"BCD300\"\n",
    "\n"
   ]
  }
 ],
 "metadata": {
  "kernelspec": {
   "display_name": "Python 3 (ipykernel)",
   "language": "python",
   "name": "python3"
  },
  "language_info": {
   "codemirror_mode": {
    "name": "ipython",
    "version": 3
   },
   "file_extension": ".py",
   "mimetype": "text/x-python",
   "name": "python",
   "nbconvert_exporter": "python",
   "pygments_lexer": "ipython3",
   "version": "3.12.4"
  },
  "panel-cell-order": [
   "9510410b-9fb7-4143-942f-3e96a2c12c3a",
   "cae3757c-d10f-4865-87b1-91a54348c4c8",
   "f8cc7e34-dbb3-411f-8da8-fe542058cee7",
   "6e2ee90e-d30c-455c-ab72-f81eb8363349",
   "5dcf954b-aae3-4f55-8949-bdc848f643ac",
   "a8e369ab-8489-4b45-b4d2-be669b2aead7",
   "cd0b509b-a2b9-445f-bf41-9b5cef573540",
   "96c9d5bc-ecf6-4d7b-a4e5-4c2431d6d7f0",
   "8fb81dd4-22b8-44ee-be2e-fe739892a2de",
   "4910551c-6a20-4dfa-8791-517b62347547",
   "532b762d-5a30-4c25-b218-fdbda8b29b3b",
   "371cdde3-7de2-4f06-b9c2-4787b898446b",
   "36c8b268-7eb6-472b-803b-4a4dafae485b",
   "4d90f856-529c-402f-83c1-c20d7d766ae6",
   "7cce0d78-3fad-4639-8b0d-a1001a7de55f",
   "c9c89e47-fa55-4a4d-8e60-246883b0675a",
   "f77fa432-6d33-4685-9b87-1ea38954802b",
   "6293f6d5-a03b-4dcd-a8ee-4715b6483938",
   "a21eda75-bced-4394-9780-69c6c08125c9",
   "3bc194bb-3bf8-4cac-8205-b770db66bce5",
   "2dbbb75d-809f-4f9b-bb3e-c2a842cc3541",
   "c00f3f58-9bdc-44ad-bd0f-e8faec2b6818"
  ]
 },
 "nbformat": 4,
 "nbformat_minor": 5
}
