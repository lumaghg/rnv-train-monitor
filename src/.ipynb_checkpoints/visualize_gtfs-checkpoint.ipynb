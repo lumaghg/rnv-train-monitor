{
 "cells": [
  {
   "cell_type": "markdown",
   "id": "9510410b-9fb7-4143-942f-3e96a2c12c3a",
   "metadata": {},
   "source": [
    "# Visualize the data\n",
    "1. Convenience functions for date processing\n",
    "2. Get trips that are currently active\n",
    "3. Get status of the active trips"
   ]
  },
  {
   "cell_type": "code",
   "execution_count": 3,
   "id": "9fa747e6-f47c-4944-b64f-06362bd09f20",
   "metadata": {},
   "outputs": [],
   "source": [
    "from pandas import read_csv, DataFrame\n",
    "from os import path, getcwd\n",
    "\n",
    "gtfs_filtered_path = path.join(getcwd(), 'gtfs_filtered')\n",
    "calendar_path = path.join(gtfs_filtered_path, 'calendar.txt')\n",
    "routes_path = path.join(gtfs_filtered_path, 'routes.txt')\n",
    "trips_path = path.join(gtfs_filtered_path, 'trips.txt')\n",
    "stops_path = path.join(gtfs_filtered_path, 'stops.txt')\n",
    "stop_times_path = path.join(gtfs_filtered_path, 'stop_times.txt')\n",
    "\n",
    "calendar:DataFrame = read_csv(calendar_path)\n",
    "routes:DataFrame = read_csv(routes_path)\n",
    "trips:DataFrame = read_csv(trips_path)\n",
    "stops:DataFrame = read_csv(stops_path)\n",
    "stop_times:DataFrame = read_csv(stop_times_path)\n",
    "\n",
    "\n",
    "\n"
   ]
  },
  {
   "cell_type": "markdown",
   "id": "cae3757c-d10f-4865-87b1-91a54348c4c8",
   "metadata": {},
   "source": [
    "## 1. convenience functions for gtfs date formats"
   ]
  },
  {
   "cell_type": "code",
   "execution_count": 5,
   "id": "c173f39c-692c-41cf-96d6-7c800b3d2993",
   "metadata": {},
   "outputs": [],
   "source": [
    "import datetime\n",
    "\n",
    "def parseTimeAsDatetimeObject(timestring:str):\n",
    "    # mod 24, because gtfs defines days as service days that can be longer than 24 hours, so 24:15 is a valid gtfs time\n",
    "    hour = int(timestring[0:2]) % 24\n",
    "    minute = int(timestring[3:5])\n",
    "    second = int(timestring[6:8])\n",
    "    #print(timestring)\n",
    "    #print(hour)\n",
    "    #print(minute) \n",
    "    #print(second)\n",
    "    return datetime.time(hour, minute, second)\n",
    "\n",
    "def parseDateAsDatetimeObject(datestring:str):\n",
    "    datestring = str(datestring)\n",
    "    year = int(datestring[0:4])\n",
    "    month = int(datestring[4:6])\n",
    "    day = int(datestring[6:8])\n",
    "    return datetime.date(year, month, day)\n",
    "\n",
    "def getGtfsWeekdayFromDate(date: datetime.date):\n",
    "    weekday_number = date.weekday()\n",
    "    if weekday_number == 0:\n",
    "        return \"monday\"\n",
    "    elif weekday_number == 1:\n",
    "        return \"tuesday\"\n",
    "    elif weekday_number == 2:\n",
    "        return \"wednesday\"\n",
    "    elif weekday_number == 3:\n",
    "        return \"thursday\"\n",
    "    elif weekday_number == 4:\n",
    "        return \"friday\"\n",
    "    elif weekday_number == 5:\n",
    "        return \"saturday\"\n",
    "    else:\n",
    "        return \"sunday\"\n",
    "    "
   ]
  },
  {
   "cell_type": "markdown",
   "id": "36c8b268-7eb6-472b-803b-4a4dafae485b",
   "metadata": {},
   "source": [
    "## 2. currently active trips"
   ]
  },
  {
   "cell_type": "markdown",
   "id": "4d90f856-529c-402f-83c1-c20d7d766ae6",
   "metadata": {},
   "source": [
    "First, we need to get all the trip_ids for currently active trips. Trips are active, if the current time is between the start and end time of the trip and if one of the services, the trip belongs to, runs on the current day.\n",
    "Let's start by looking at the start and end times of the trips."
   ]
  },
  {
   "cell_type": "code",
   "execution_count": 8,
   "id": "7cce0d78-3fad-4639-8b0d-a1001a7de55f",
   "metadata": {},
   "outputs": [
    {
     "name": "stdout",
     "output_type": "stream",
     "text": [
      "2024-10-21 18:40:01.949105\n",
      "found 10 trips that run at the current time\n",
      "      route_id            trip_id  \\\n",
      "54     22-2-22    22-2-1022-66780   \n",
      "73     22-1-22       22-1-1-66120   \n",
      "93     22-1-22       22-1-1-66720   \n",
      "176    22-2-22    22-2-1022-66180   \n",
      "264  22-852-22  22-852-3022-66780   \n",
      "\n",
      "                                            service_id  trip_short_name  \\\n",
      "54         295-296-297-298-299-300-302-303-304-305-307               22   \n",
      "73   295-296-297-298-299-300-301-302-303-304-305-30...               22   \n",
      "93         295-296-297-298-299-300-302-303-304-305-307               22   \n",
      "176        295-296-297-298-299-300-302-303-304-305-307               22   \n",
      "264                                                309               22   \n",
      "\n",
      "    start_time  end_time  \n",
      "54    18:33:00  18:52:00  \n",
      "73    18:22:00  18:41:00  \n",
      "93    18:32:00  18:51:00  \n",
      "176   18:23:00  18:42:00  \n",
      "264   18:33:00  19:01:00  \n"
     ]
    }
   ],
   "source": [
    "print(datetime.datetime.now())\n",
    "\n",
    "def isTripRowActiveAtCurrentTime(trip_row):\n",
    "    start_time = parseTimeAsDatetimeObject(trip_row['start_time'])\n",
    "    current_time = datetime.datetime.now().time() \n",
    "    end_time = parseTimeAsDatetimeObject(trip_row['end_time'])\n",
    "    #print(start_time, current_time, end_time, start_time <= current_time <= end_time)\n",
    "    return start_time <= current_time <= end_time\n",
    "    \n",
    "\n",
    "# select trips where current time is between start and end time\n",
    "trips = trips[trips.apply(isTripRowActiveAtCurrentTime, axis=1)]\n",
    "print(\"found\", trips.shape[0], \"trips that run at the current time\")\n",
    "print(trips.head(5))"
   ]
  },
  {
   "cell_type": "markdown",
   "id": "c9c89e47-fa55-4a4d-8e60-246883b0675a",
   "metadata": {},
   "source": [
    "Secondly, we will check whether the services run on the current day by looking up the services from the `service_id` column in the calendar dataframe.\n",
    "As soon as we find a `service_id` that runs on the current day, we can stop the search and return true, otherwise we return false."
   ]
  },
  {
   "cell_type": "code",
   "execution_count": 17,
   "id": "f77fa432-6d33-4685-9b87-1ea38954802b",
   "metadata": {},
   "outputs": [
    {
     "name": "stdout",
     "output_type": "stream",
     "text": [
      "    route_id          trip_id  \\\n",
      "54   22-2-22  22-2-1022-66780   \n",
      "73   22-1-22     22-1-1-66120   \n",
      "93   22-1-22     22-1-1-66720   \n",
      "176  22-2-22  22-2-1022-66180   \n",
      "\n",
      "                                            service_id  trip_short_name  \\\n",
      "54         295-296-297-298-299-300-302-303-304-305-307               22   \n",
      "73   295-296-297-298-299-300-301-302-303-304-305-30...               22   \n",
      "93         295-296-297-298-299-300-302-303-304-305-307               22   \n",
      "176        295-296-297-298-299-300-302-303-304-305-307               22   \n",
      "\n",
      "    start_time  end_time  \n",
      "54    18:33:00  18:52:00  \n",
      "73    18:22:00  18:41:00  \n",
      "93    18:32:00  18:51:00  \n",
      "176   18:23:00  18:42:00  \n"
     ]
    }
   ],
   "source": [
    "def isTripRowActiveOnCurrentDay(trip_row):\n",
    "    current_date = datetime.date.today()\n",
    "    current_weekday_gtfs = getGtfsWeekdayFromDate(datetime.date.today())\n",
    "\n",
    "    \n",
    "    calendar:DataFrame = read_csv(calendar_path)\n",
    "\n",
    "    # select row from calendar for this service\n",
    "    calendar = calendar[calendar['service_id'] == trip_row['service_id']]\n",
    "\n",
    "    # check every calendar entry\n",
    "    for index, schedule in calendar.iterrows():\n",
    "        # check if current date is between start_date and end_date (inclusive)\n",
    "        start_date = parseDateAsDatetimeObject(schedule['start_date'])\n",
    "        end_date = parseDateAsDatetimeObject(schedule['end_date'])\n",
    "\n",
    "        duration_check = start_date <= current_date <= end_date\n",
    "\n",
    "        # check if current weekday is an active day in the schedule\n",
    "        weekday_check = schedule[current_weekday_gtfs] == 1\n",
    "\n",
    "        if duration_check and weekday_check:\n",
    "            return True\n",
    "                \n",
    "    return False\n",
    "    \n",
    "trips = trips[trips.apply(isTripRowActiveOnCurrentDay, axis=1)]\n",
    "print(trips.head(5))"
   ]
  },
  {
   "cell_type": "markdown",
   "id": "6293f6d5-a03b-4dcd-a8ee-4715b6483938",
   "metadata": {},
   "source": [
    "## Status of active trips\n",
    "Now that we have identified all the trips that are currently running, we want to know where the trams are on our network. As we later want to represent a vehicle being at a stop as well as a vehicle traveling between stops, we will represent the status of a vehicle (trip) as \n",
    "status: IN_TRANSIT_TO, currentStop: <stop_id>, previousStop: <stop_id>\n",
    "status: STOPPED_AT, currentStop: <stop_id>, previousStop: <stop_id>\n",
    "and optionally (status: INCOMING_AT, stop: <stop>)\n",
    "\n",
    "Additionally, we want to represent the direction of travel by having one LED line per direction. All stops of each section of track between intersections will be organized in a sorted list for each direction, e,g, for the section between Bismarckplatz and Stadtbücherei\n",
    "List 1: None -> Bismarckplatz -> Seegarten -> Stadtbücherei\n",
    "List 2: None -> Stadtbücherei -> Seegarten -> Bismarckplatz\n",
    "\n",
    "Each tuple of each direction will have LEDs assigned, e.g. Bismarckplatz -> Seegarten gets LEDs 0 and 1 assigned. 0 is the LED between Bismarckplatz and Seegarten and 1 is the LED on Seegarten itself. When the status reflects the train having stopped, LED 1 is lighted, if the tram is still in transit to Seegarten, the LED between the stations is activated instead.  \n"
   ]
  },
  {
   "cell_type": "code",
   "execution_count": null,
   "id": "231cd883-2344-485e-a6a4-a77974da8270",
   "metadata": {},
   "outputs": [],
   "source": []
  }
 ],
 "metadata": {
  "kernelspec": {
   "display_name": "Python 3 (ipykernel)",
   "language": "python",
   "name": "python3"
  },
  "language_info": {
   "codemirror_mode": {
    "name": "ipython",
    "version": 3
   },
   "file_extension": ".py",
   "mimetype": "text/x-python",
   "name": "python",
   "nbconvert_exporter": "python",
   "pygments_lexer": "ipython3",
   "version": "3.12.4"
  }
 },
 "nbformat": 4,
 "nbformat_minor": 5
}
