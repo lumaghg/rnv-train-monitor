{
 "cells": [
  {
   "cell_type": "markdown",
   "id": "b15d81dc-2317-40ff-b788-77336ef328a1",
   "metadata": {},
   "source": [
    "# Preprocessing\n",
    "1. convenience functions for date processing\n",
    "2. select relevant routes, trips and stop_times\n",
    "3. add start and end times for trips\n",
    "4. save filtered data to filesystem"
   ]
  },
  {
   "cell_type": "markdown",
   "id": "0842bff2-14d2-4679-b5cc-b170f33a0a45",
   "metadata": {},
   "source": [
    "Read the data from the files:"
   ]
  },
  {
   "cell_type": "code",
   "execution_count": 3,
   "id": "81a3caaf-6205-4c70-95b9-30687715825f",
   "metadata": {},
   "outputs": [],
   "source": [
    "from pandas import read_csv, DataFrame\n",
    "from os import path, getcwd\n",
    "\n",
    "gtfs_path = path.join(getcwd(), '..', 'gtfs')\n",
    "calendar_path = path.join(gtfs_path, 'calendar.txt')\n",
    "routes_path = path.join(gtfs_path, 'routes.txt')\n",
    "trips_path = path.join(gtfs_path, 'trips.txt')\n",
    "stops_path = path.join(gtfs_path, 'stops.txt')\n",
    "stop_times_path = path.join(gtfs_path, 'stop_times.txt')\n",
    "\n",
    "calendar:DataFrame = read_csv(calendar_path)\n",
    "routes:DataFrame = read_csv(routes_path)\n",
    "trips:DataFrame = read_csv(trips_path)\n",
    "stops:DataFrame = read_csv(stops_path)\n",
    "stop_times:DataFrame = read_csv(stop_times_path)"
   ]
  },
  {
   "cell_type": "markdown",
   "id": "12c60b19-0068-4c9e-9e49-b576a4e99443",
   "metadata": {},
   "source": [
    "## 1. convenience functions for gtfs date formats"
   ]
  },
  {
   "cell_type": "code",
   "execution_count": 5,
   "id": "f911fe9c-bc2f-444c-97ce-517d49e95ea9",
   "metadata": {},
   "outputs": [],
   "source": [
    "import datetime\n",
    "\n",
    "def parseTimeAsDatetimeObject(timestring:str):\n",
    "    time_parts = timestring.split(\":\")\n",
    "    return datetime.time(int(time_parts[0]), int(time_parts[1]), int(time_parts[2]))\n",
    "\n",
    "def parseDateAsDatetimeObject(datestring:str):\n",
    "    year = int(datestring[0:4])\n",
    "    month = int(datestring[4:6])\n",
    "    day = int(datestring[6:8])\n",
    "    return datetime.date(year, month, day)"
   ]
  },
  {
   "cell_type": "markdown",
   "id": "114b4cfd-38a8-4535-9be0-a54b73cfbe73",
   "metadata": {},
   "source": [
    "## 2. filter relevant routes, trips and stop_times\n",
    "First, we want to remove all unneccessary data entries.\n",
    "As we will focus on the line 22 for the start, we only want routes, trips and stop_times for the line 22. \n"
   ]
  },
  {
   "cell_type": "code",
   "execution_count": 7,
   "id": "5d898858-1341-4f03-9b5a-925d2d280b71",
   "metadata": {},
   "outputs": [],
   "source": [
    "relevant_lines:tuple = (\"22\")"
   ]
  },
  {
   "cell_type": "markdown",
   "id": "221398a0-aec9-4cfc-b6c8-da800091205f",
   "metadata": {},
   "source": [
    "To achieve this, we firstly  select all rows from the routes that have a ´route_id´ starting with 22, indicating the route to be on line 22. By doing this instead of looking at the ´route_short_name´, special services like line E for shortened services to and from the depot are included."
   ]
  },
  {
   "cell_type": "code",
   "execution_count": 9,
   "id": "9923234b-5684-479a-9d5b-b9b7b525a1b4",
   "metadata": {},
   "outputs": [
    {
     "name": "stdout",
     "output_type": "stream",
     "text": [
      "found  10 routes on lines 22\n",
      "      route_id route_short_name                 route_desc route_color\n",
      "231    22-2-22               22  Bismarckplatz - Eppelheim      FDC300\n",
      "232    22-1-22               22  Bismarckplatz - Eppelheim      FDC300\n",
      "234  22-121-22               22  Bismarckplatz - Eppelheim      FDC300\n",
      "235  22-102-22               22  Bismarckplatz - Eppelheim      FDC300\n",
      "238  22-122-22               22  Bismarckplatz - Eppelheim      FDC300\n"
     ]
    }
   ],
   "source": [
    "# select relevant columns\n",
    "routes = routes[['route_id', 'route_short_name', 'route_desc', 'route_color']]\n",
    "\n",
    "# select only routes of relevant lines, indicated by the route_id \n",
    "routes = routes.loc[routes['route_id'].str.startswith(relevant_lines)]\n",
    "\n",
    "print('found ',routes.shape[0], 'routes on lines', relevant_lines)\n",
    "print(routes.head(5))"
   ]
  },
  {
   "cell_type": "markdown",
   "id": "1d58e22c-1187-4133-ade0-a842d8d360f9",
   "metadata": {},
   "source": [
    "Let's do the same with trips."
   ]
  },
  {
   "cell_type": "code",
   "execution_count": 11,
   "id": "2f45a673-7057-412c-b75b-d2d324e7a7c0",
   "metadata": {},
   "outputs": [
    {
     "name": "stdout",
     "output_type": "stream",
     "text": [
      "found  466 trips on lines 22\n",
      "     route_id          trip_id  \\\n",
      "5742  22-2-22  22-2-1022-18780   \n",
      "5743  22-1-22     22-1-1-20520   \n",
      "5744  22-2-22  22-2-1022-25980   \n",
      "5745  22-1-22     22-1-1-27720   \n",
      "5746  22-2-22  22-2-1022-33180   \n",
      "\n",
      "                                             service_id trip_short_name  \n",
      "5742                295-296-297-298-299-302-303-304-305              22  \n",
      "5743        295-296-297-298-299-300-302-303-304-305-307              22  \n",
      "5744                295-296-297-298-299-302-303-304-305              22  \n",
      "5745  295-296-297-298-299-300-301-302-303-304-305-30...              22  \n",
      "5746        295-296-297-298-299-300-302-303-304-305-307              22  \n"
     ]
    }
   ],
   "source": [
    "# select relevant columns\n",
    "trips = trips[[\"route_id\",\"trip_id\", \"service_id\", \"trip_short_name\"]]\n",
    "\n",
    "# select only trips of relevant lines, indicated by the trip_id \n",
    "trips = trips.loc[trips['trip_id'].str.startswith(relevant_lines)]\n",
    "\n",
    "print('found ',trips.shape[0], 'trips on lines', relevant_lines)\n",
    "print(trips.head(5))"
   ]
  },
  {
   "cell_type": "markdown",
   "id": "cc3b5ea8-a313-425d-8888-f1b5e4f1bbcb",
   "metadata": {},
   "source": [
    "And finally, we also filter the stop_times by looking at the prefix of the trip_id."
   ]
  },
  {
   "cell_type": "code",
   "execution_count": 13,
   "id": "6c4ddab7-ce03-4719-8484-0153c0e89948",
   "metadata": {},
   "outputs": [
    {
     "name": "stdout",
     "output_type": "stream",
     "text": [
      "found  6280 stop times on lines 22\n",
      "                trip_id arrival_time departure_time  stop_sequence\n",
      "142125  22-2-1022-18780     05:13:00       05:13:00              1\n",
      "142126  22-2-1022-18780     05:14:00       05:14:00              2\n",
      "142127  22-2-1022-18780     05:15:00       05:16:00              3\n",
      "142128  22-2-1022-18780     05:17:00       05:17:00              4\n",
      "142129  22-2-1022-18780     05:18:00       05:18:00              5\n"
     ]
    }
   ],
   "source": [
    "# select relevant columns\n",
    "stop_times = stop_times[[\"trip_id\", \"arrival_time\", \"departure_time\", \"stop_sequence\"]]\n",
    "\n",
    "# select only trips of relevant lines, indicated by the trip_id \n",
    "stop_times = stop_times.loc[stop_times['trip_id'].str.startswith(relevant_lines)]\n",
    "\n",
    "print('found ',stop_times.shape[0], 'stop times on lines', relevant_lines)\n",
    "print(stop_times.head(5))"
   ]
  },
  {
   "cell_type": "markdown",
   "id": "7819bcf7-60d6-4827-887e-2b79cea38c4d",
   "metadata": {},
   "source": [
    "## 3. add start and end times to trips"
   ]
  },
  {
   "cell_type": "markdown",
   "id": "1546e223-3732-410b-9fdd-4b6305296880",
   "metadata": {},
   "source": [
    "To make it easy to identify the active trips, we will now add start and end times to each trip.\n",
    "First, we will create a function to get all the stop_times for a specific ´trip_id´. Then we will sort the stop_times and return the first ´arrival_time´ as trip start and the last ´departure_time´ as trip end."
   ]
  },
  {
   "cell_type": "code",
   "execution_count": 16,
   "id": "133b9eba-cddb-4481-bad7-cd2dadaed098",
   "metadata": {},
   "outputs": [
    {
     "name": "stdout",
     "output_type": "stream",
     "text": [
      "Trip Start Time:  05:13:00 \n",
      "Trip End Time:  05:32:00\n"
     ]
    }
   ],
   "source": [
    "def getTripStartTime(trip_id:str) -> tuple[str, str]:\n",
    "    relevant_stop_times = stop_times.loc[stop_times['trip_id'] == trip_id]\n",
    "    #print('found ',relevant_stop_times.shape[0], 'relevant stop times for trip_id', trip_id)\n",
    "    \n",
    "    relevant_stop_times = relevant_stop_times.sort_values(by=['stop_sequence'])\n",
    "    \n",
    "    first_stop = relevant_stop_times.iloc[0]\n",
    "    trip_start_time = first_stop.loc['arrival_time']\n",
    "    \n",
    "    return trip_start_time\n",
    "\n",
    "def getTripEndTime(trip_id:str) -> tuple[str, str]:\n",
    "    relevant_stop_times = stop_times.loc[stop_times['trip_id'] == trip_id]\n",
    "    #print('found ',relevant_stop_times.shape[0], 'relevant stop times for trip_id', trip_id)\n",
    "    \n",
    "    relevant_stop_times = relevant_stop_times.sort_values(by=['stop_sequence'])\n",
    "    \n",
    "    last_stop = relevant_stop_times.iloc[-1]\n",
    "    trip_end_time = last_stop.loc['departure_time']\n",
    "    \n",
    "    return trip_end_time\n",
    "\n",
    "example_start = getTripStartTime('22-2-1022-18780')\n",
    "example_end = getTripEndTime('22-2-1022-18780')\n",
    "print('Trip Start Time: ', example_start, '\\nTrip End Time: ', example_end)"
   ]
  },
  {
   "cell_type": "markdown",
   "id": "beb6c5b9-8cb2-4f4a-9760-a93086d92448",
   "metadata": {},
   "source": [
    "Now let's add the new columns by using the function we just created."
   ]
  },
  {
   "cell_type": "code",
   "execution_count": 18,
   "id": "92dde7db-ce54-4be1-a5f4-0a6321cf7026",
   "metadata": {},
   "outputs": [
    {
     "name": "stdout",
     "output_type": "stream",
     "text": [
      "     route_id          trip_id  \\\n",
      "5742  22-2-22  22-2-1022-18780   \n",
      "5743  22-1-22     22-1-1-20520   \n",
      "5744  22-2-22  22-2-1022-25980   \n",
      "5745  22-1-22     22-1-1-27720   \n",
      "5746  22-2-22  22-2-1022-33180   \n",
      "\n",
      "                                             service_id trip_short_name  \\\n",
      "5742                295-296-297-298-299-302-303-304-305              22   \n",
      "5743        295-296-297-298-299-300-302-303-304-305-307              22   \n",
      "5744                295-296-297-298-299-302-303-304-305              22   \n",
      "5745  295-296-297-298-299-300-301-302-303-304-305-30...              22   \n",
      "5746        295-296-297-298-299-300-302-303-304-305-307              22   \n",
      "\n",
      "     start_time  end_time  \n",
      "5742   05:13:00  05:32:00  \n",
      "5743   05:42:00  06:01:00  \n",
      "5744   07:13:00  07:32:00  \n",
      "5745   07:42:00  08:01:00  \n",
      "5746   09:13:00  09:32:00  \n"
     ]
    }
   ],
   "source": [
    "trips['start_time'] = trips.apply(lambda row: getTripStartTime(row['trip_id']), axis=1)\n",
    "trips['end_time'] = trips.apply(lambda row: getTripEndTime(row['trip_id']), axis=1)\n",
    "\n",
    "print(trips.head(5))"
   ]
  },
  {
   "cell_type": "markdown",
   "id": "747e919a-e5c6-4e71-a700-d7718024e451",
   "metadata": {},
   "source": [
    "## 4. save filtered data to filesystem"
   ]
  },
  {
   "cell_type": "code",
   "execution_count": 20,
   "id": "0548de7d-3e23-4835-96d3-b95227d4473e",
   "metadata": {},
   "outputs": [],
   "source": [
    "gtfs_filtered_path = path.join(getcwd(), 'gtfs_filtered')\n",
    "\n",
    "calendar_filtered_path = path.join(gtfs_filtered_path, 'calendar.txt')\n",
    "routes_filtered_path = path.join(gtfs_filtered_path, 'routes.txt')\n",
    "trips_filtered_path = path.join(gtfs_filtered_path, 'trips.txt')\n",
    "stops_filtered_path = path.join(gtfs_filtered_path, 'stops.txt')\n",
    "stop_times_filtered_path = path.join(gtfs_filtered_path, 'stop_times.txt')\n",
    "\n",
    "calendar.to_csv(calendar_filtered_path, index=False)\n",
    "routes.to_csv(routes_filtered_path, index=False)\n",
    "trips.to_csv(trips_filtered_path, index=False)\n",
    "stops.to_csv(stops_filtered_path, index=False)\n",
    "stop_times.to_csv(stop_times_filtered_path, index=False)"
   ]
  },
  {
   "cell_type": "code",
   "execution_count": null,
   "id": "01f9cb43-1d00-4e10-b9c5-7a7c29dffdfa",
   "metadata": {},
   "outputs": [],
   "source": []
  }
 ],
 "metadata": {
  "kernelspec": {
   "display_name": "Python 3 (ipykernel)",
   "language": "python",
   "name": "python3"
  },
  "language_info": {
   "codemirror_mode": {
    "name": "ipython",
    "version": 3
   },
   "file_extension": ".py",
   "mimetype": "text/x-python",
   "name": "python",
   "nbconvert_exporter": "python",
   "pygments_lexer": "ipython3",
   "version": "3.12.4"
  }
 },
 "nbformat": 4,
 "nbformat_minor": 5
}
